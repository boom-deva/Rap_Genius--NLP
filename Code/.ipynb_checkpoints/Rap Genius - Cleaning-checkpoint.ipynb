{
 "cells": [
  {
   "cell_type": "markdown",
   "metadata": {},
   "source": [
    "# Step 0 - Importing Libraries"
   ]
  },
  {
   "cell_type": "markdown",
   "metadata": {},
   "source": [
    "### Notes\n",
    "- In the future I should consider making a dataframe that has the individual songs lyrics, their timestamp, title, and other stats."
   ]
  },
  {
   "cell_type": "code",
   "execution_count": 299,
   "metadata": {
    "ExecuteTime": {
     "end_time": "2019-05-14T15:29:59.369525Z",
     "start_time": "2019-05-14T15:29:57.391214Z"
    }
   },
   "outputs": [
    {
     "name": "stdout",
     "output_type": "stream",
     "text": [
      "Requirement already up-to-date: nltk in c:\\users\\vonn\\anaconda3\\lib\\site-packages (3.4.1)\n",
      "Requirement already satisfied, skipping upgrade: six in c:\\users\\vonn\\anaconda3\\lib\\site-packages (from nltk) (1.12.0)\n"
     ]
    }
   ],
   "source": [
    "# !pip install -U contractions\n",
    "# !pip install -U inflect\n",
    "!pip install -U nltk"
   ]
  },
  {
   "cell_type": "code",
   "execution_count": 300,
   "metadata": {
    "ExecuteTime": {
     "end_time": "2019-05-14T15:29:59.381454Z",
     "start_time": "2019-05-14T15:29:59.372481Z"
    },
    "scrolled": true
   },
   "outputs": [
    {
     "name": "stderr",
     "output_type": "stream",
     "text": [
      "[nltk_data] Downloading package punkt to\n",
      "[nltk_data]     C:\\Users\\Vonn\\AppData\\Roaming\\nltk_data...\n",
      "[nltk_data]   Package punkt is already up-to-date!\n",
      "[nltk_data] Downloading package stopwords to\n",
      "[nltk_data]     C:\\Users\\Vonn\\AppData\\Roaming\\nltk_data...\n",
      "[nltk_data]   Package stopwords is already up-to-date!\n",
      "[nltk_data] Downloading package wordnet to\n",
      "[nltk_data]     C:\\Users\\Vonn\\AppData\\Roaming\\nltk_data...\n",
      "[nltk_data]   Package wordnet is already up-to-date!\n"
     ]
    }
   ],
   "source": [
    "import re, string, unicodedata\n",
    "import nltk\n",
    "import contractions\n",
    "import codecs\n",
    "import inflect\n",
    "nltk.download('punkt')\n",
    "nltk.download('stopwords')\n",
    "nltk.download('wordnet')\n",
    "from nltk import word_tokenize, sent_tokenize\n",
    "import pandas as pd\n",
    "import numpy as np\n",
    "from sklearn.feature_extraction.text import CountVectorizer\n",
    "\n",
    "from nltk.corpus import stopwords\n",
    "from nltk.stem import WordNetLemmatizer, SnowballStemmer\n",
    "\n",
    "import pickle"
   ]
  },
  {
   "cell_type": "markdown",
   "metadata": {},
   "source": [
    "# Step 1 read in data"
   ]
  },
  {
   "cell_type": "code",
   "execution_count": 301,
   "metadata": {
    "ExecuteTime": {
     "end_time": "2019-05-14T15:29:59.395469Z",
     "start_time": "2019-05-14T15:29:59.383450Z"
    }
   },
   "outputs": [],
   "source": [
    "# Read in data\n",
    "with codecs.open('Raw_Dataframe','rb') as f:\n",
    "    df_1 = pickle.load(f)\n",
    "\n",
    "df_1.set_index('Artist',inplace = True)"
   ]
  },
  {
   "cell_type": "code",
   "execution_count": 302,
   "metadata": {
    "ExecuteTime": {
     "end_time": "2019-05-14T15:29:59.413370Z",
     "start_time": "2019-05-14T15:29:59.402402Z"
    }
   },
   "outputs": [
    {
     "data": {
      "text/html": [
       "<div>\n",
       "<style scoped>\n",
       "    .dataframe tbody tr th:only-of-type {\n",
       "        vertical-align: middle;\n",
       "    }\n",
       "\n",
       "    .dataframe tbody tr th {\n",
       "        vertical-align: top;\n",
       "    }\n",
       "\n",
       "    .dataframe thead th {\n",
       "        text-align: right;\n",
       "    }\n",
       "</style>\n",
       "<table border=\"1\" class=\"dataframe\">\n",
       "  <thead>\n",
       "    <tr style=\"text-align: right;\">\n",
       "      <th></th>\n",
       "      <th>Lyrics</th>\n",
       "    </tr>\n",
       "    <tr>\n",
       "      <th>Artist</th>\n",
       "      <th></th>\n",
       "    </tr>\n",
       "  </thead>\n",
       "  <tbody>\n",
       "    <tr>\n",
       "      <th>Drake</th>\n",
       "      <td>[Produced by Boi-1da, Frank Dukes, Noah \"40\" S...</td>\n",
       "    </tr>\n",
       "    <tr>\n",
       "      <th>Jayz</th>\n",
       "      <td>[Intro: Hannah Williams]\\nDo I find it so hard...</td>\n",
       "    </tr>\n",
       "    <tr>\n",
       "      <th>Nas</th>\n",
       "      <td>[Produced by Ron Browz]\\n\\n[Intro]\\nFuck Jay Z...</td>\n",
       "    </tr>\n",
       "    <tr>\n",
       "      <th>Eminem</th>\n",
       "      <td>[Verse 1]\\nNow this shit's about to kick off, ...</td>\n",
       "    </tr>\n",
       "    <tr>\n",
       "      <th>Future</th>\n",
       "      <td>[Intro]\\nHigh Klassified な音楽\\nI got the truth ...</td>\n",
       "    </tr>\n",
       "    <tr>\n",
       "      <th>KanyeWest</th>\n",
       "      <td>[Produced By Daft Punk &amp; Kanye West]\\n\\n[Verse...</td>\n",
       "    </tr>\n",
       "  </tbody>\n",
       "</table>\n",
       "</div>"
      ],
      "text/plain": [
       "                                                      Lyrics\n",
       "Artist                                                      \n",
       "Drake      [Produced by Boi-1da, Frank Dukes, Noah \"40\" S...\n",
       "Jayz       [Intro: Hannah Williams]\\nDo I find it so hard...\n",
       "Nas        [Produced by Ron Browz]\\n\\n[Intro]\\nFuck Jay Z...\n",
       "Eminem     [Verse 1]\\nNow this shit's about to kick off, ...\n",
       "Future     [Intro]\\nHigh Klassified な音楽\\nI got the truth ...\n",
       "KanyeWest  [Produced By Daft Punk & Kanye West]\\n\\n[Verse..."
      ]
     },
     "execution_count": 302,
     "metadata": {},
     "output_type": "execute_result"
    }
   ],
   "source": [
    "df_1"
   ]
  },
  {
   "cell_type": "code",
   "execution_count": 303,
   "metadata": {
    "ExecuteTime": {
     "end_time": "2019-05-14T15:29:59.424339Z",
     "start_time": "2019-05-14T15:29:59.417360Z"
    },
    "scrolled": true
   },
   "outputs": [
    {
     "data": {
      "text/plain": [
       "'[Produced by Boi-1da, Frank Dukes, Noah \"40\" Shebib, & Nineteen85]\\n\\n[Part I: 0 to 100]\\n\\n[Verse 1]\\nFu'"
      ]
     },
     "execution_count": 303,
     "metadata": {},
     "output_type": "execute_result"
    }
   ],
   "source": [
    "df_1.loc['Drake'][0][0:100]"
   ]
  },
  {
   "cell_type": "code",
   "execution_count": 304,
   "metadata": {
    "ExecuteTime": {
     "end_time": "2019-05-14T15:29:59.440340Z",
     "start_time": "2019-05-14T15:29:59.430324Z"
    },
    "code_folding": []
   },
   "outputs": [],
   "source": [
    "def first_cleaning_session():\n",
    "    \"\"\"\n",
    "    I am creating a function to do the first cleaning session.\n",
    "    There are simple things that will show up in any version of the Lyrics\n",
    "    that I obtain. This function will handle it before moving on to harder\n",
    "    cleaning session regarding lemmatizing, stemming, or profanity.\n",
    "    \"\"\"\n",
    "    index = list(df_1.index.values)\n",
    "    rapper = df_1.Lyrics\n",
    "    \n",
    "    for artist_ in index:\n",
    "        # Lower text\n",
    "        try:\n",
    "            rapper.loc[artist_] = rapper.loc[artist_].lower();\n",
    "        except:\n",
    "            pass\n",
    "        # remove '\\' from text that is in between apostrophes\n",
    "        try:\n",
    "            rapper.loc[artist_] = rapper.loc[artist_].replace(\"\\\\\", \"\");\n",
    "        except:\n",
    "            pass\n",
    "        # Split text\n",
    "        try:\n",
    "            rapper.loc[artist_] = rapper.loc[artist_].split(\"\\n\");\n",
    "        except:\n",
    "            pass\n",
    "        # remove producer\n",
    "        try:\n",
    "            rapper.loc[artist_] = [line for line in df_1.loc[artist_][0] if ('[produced' not in line) == True]\n",
    "        except:\n",
    "            pass\n",
    "        # remove blank strings\n",
    "        try:\n",
    "            rapper.loc[artist_] = list(filter(None, df_1.loc[artist_][0]))\n",
    "        except:\n",
    "            pass\n",
    "        "
   ]
  },
  {
   "cell_type": "code",
   "execution_count": 305,
   "metadata": {
    "ExecuteTime": {
     "end_time": "2019-05-14T15:29:59.471239Z",
     "start_time": "2019-05-14T15:29:59.442293Z"
    }
   },
   "outputs": [],
   "source": [
    "first_cleaning_session()"
   ]
  },
  {
   "cell_type": "code",
   "execution_count": 306,
   "metadata": {
    "ExecuteTime": {
     "end_time": "2019-05-14T15:29:59.484179Z",
     "start_time": "2019-05-14T15:29:59.472213Z"
    }
   },
   "outputs": [
    {
     "data": {
      "text/html": [
       "<div>\n",
       "<style scoped>\n",
       "    .dataframe tbody tr th:only-of-type {\n",
       "        vertical-align: middle;\n",
       "    }\n",
       "\n",
       "    .dataframe tbody tr th {\n",
       "        vertical-align: top;\n",
       "    }\n",
       "\n",
       "    .dataframe thead th {\n",
       "        text-align: right;\n",
       "    }\n",
       "</style>\n",
       "<table border=\"1\" class=\"dataframe\">\n",
       "  <thead>\n",
       "    <tr style=\"text-align: right;\">\n",
       "      <th></th>\n",
       "      <th>Lyrics</th>\n",
       "    </tr>\n",
       "    <tr>\n",
       "      <th>Artist</th>\n",
       "      <th></th>\n",
       "    </tr>\n",
       "  </thead>\n",
       "  <tbody>\n",
       "    <tr>\n",
       "      <th>Drake</th>\n",
       "      <td>[[part i: 0 to 100], [verse 1], fuck bein' on ...</td>\n",
       "    </tr>\n",
       "    <tr>\n",
       "      <th>Jayz</th>\n",
       "      <td>[[intro: hannah williams], do i find it so har...</td>\n",
       "    </tr>\n",
       "    <tr>\n",
       "      <th>Nas</th>\n",
       "      <td>[[intro], fuck jay z!, (what's up, niggas?, ay...</td>\n",
       "    </tr>\n",
       "    <tr>\n",
       "      <th>Eminem</th>\n",
       "      <td>[[verse 1], now this shit's about to kick off,...</td>\n",
       "    </tr>\n",
       "    <tr>\n",
       "      <th>Future</th>\n",
       "      <td>[[intro], high klassified な音楽, i got the truth...</td>\n",
       "    </tr>\n",
       "    <tr>\n",
       "      <th>KanyeWest</th>\n",
       "      <td>[[verse 1], for my theme song (black), my leat...</td>\n",
       "    </tr>\n",
       "  </tbody>\n",
       "</table>\n",
       "</div>"
      ],
      "text/plain": [
       "                                                      Lyrics\n",
       "Artist                                                      \n",
       "Drake      [[part i: 0 to 100], [verse 1], fuck bein' on ...\n",
       "Jayz       [[intro: hannah williams], do i find it so har...\n",
       "Nas        [[intro], fuck jay z!, (what's up, niggas?, ay...\n",
       "Eminem     [[verse 1], now this shit's about to kick off,...\n",
       "Future     [[intro], high klassified な音楽, i got the truth...\n",
       "KanyeWest  [[verse 1], for my theme song (black), my leat..."
      ]
     },
     "execution_count": 306,
     "metadata": {},
     "output_type": "execute_result"
    }
   ],
   "source": [
    "df_1"
   ]
  },
  {
   "cell_type": "code",
   "execution_count": 307,
   "metadata": {
    "ExecuteTime": {
     "end_time": "2019-05-14T15:29:59.492190Z",
     "start_time": "2019-05-14T15:29:59.486174Z"
    }
   },
   "outputs": [
    {
     "data": {
      "text/plain": [
       "['[part i: 0 to 100]',\n",
       " '[verse 1]',\n",
       " \"fuck bein' on some chill shit\",\n",
       " 'we go 0 to 100, nigga, real quick',\n",
       " 'they be on that rap-to-pay-the-bill shit',\n",
       " \"and i don't feel that shit, not even a little bit\",\n",
       " 'oh lord, know yourself, know your worth, nigga',\n",
       " 'my actions been louder than my words, nigga',\n",
       " 'how you so high, but still so down to earth, nigga?',\n",
       " 'if niggas wanna do it, we can do it on they turf, nigga']"
      ]
     },
     "execution_count": 307,
     "metadata": {},
     "output_type": "execute_result"
    }
   ],
   "source": [
    "df_1.loc['Drake'][0][0:10]\n",
    "# now it is a list of lyrics"
   ]
  },
  {
   "cell_type": "code",
   "execution_count": 308,
   "metadata": {
    "ExecuteTime": {
     "end_time": "2019-05-14T15:29:59.509113Z",
     "start_time": "2019-05-14T15:29:59.494153Z"
    }
   },
   "outputs": [
    {
     "data": {
      "text/html": [
       "<div>\n",
       "<style scoped>\n",
       "    .dataframe tbody tr th:only-of-type {\n",
       "        vertical-align: middle;\n",
       "    }\n",
       "\n",
       "    .dataframe tbody tr th {\n",
       "        vertical-align: top;\n",
       "    }\n",
       "\n",
       "    .dataframe thead th {\n",
       "        text-align: right;\n",
       "    }\n",
       "</style>\n",
       "<table border=\"1\" class=\"dataframe\">\n",
       "  <thead>\n",
       "    <tr style=\"text-align: right;\">\n",
       "      <th></th>\n",
       "      <th>Lyrics</th>\n",
       "    </tr>\n",
       "    <tr>\n",
       "      <th>Artist</th>\n",
       "      <th></th>\n",
       "    </tr>\n",
       "  </thead>\n",
       "  <tbody>\n",
       "    <tr>\n",
       "      <th>Drake</th>\n",
       "      <td>[[part i: 0 to 100], [verse 1], fuck bein' on ...</td>\n",
       "    </tr>\n",
       "    <tr>\n",
       "      <th>Jayz</th>\n",
       "      <td>[[intro: hannah williams], do i find it so har...</td>\n",
       "    </tr>\n",
       "    <tr>\n",
       "      <th>Nas</th>\n",
       "      <td>[[intro], fuck jay z!, (what's up, niggas?, ay...</td>\n",
       "    </tr>\n",
       "    <tr>\n",
       "      <th>Eminem</th>\n",
       "      <td>[[verse 1], now this shit's about to kick off,...</td>\n",
       "    </tr>\n",
       "    <tr>\n",
       "      <th>Future</th>\n",
       "      <td>[[intro], high klassified な音楽, i got the truth...</td>\n",
       "    </tr>\n",
       "    <tr>\n",
       "      <th>KanyeWest</th>\n",
       "      <td>[[verse 1], for my theme song (black), my leat...</td>\n",
       "    </tr>\n",
       "  </tbody>\n",
       "</table>\n",
       "</div>"
      ],
      "text/plain": [
       "                                                      Lyrics\n",
       "Artist                                                      \n",
       "Drake      [[part i: 0 to 100], [verse 1], fuck bein' on ...\n",
       "Jayz       [[intro: hannah williams], do i find it so har...\n",
       "Nas        [[intro], fuck jay z!, (what's up, niggas?, ay...\n",
       "Eminem     [[verse 1], now this shit's about to kick off,...\n",
       "Future     [[intro], high klassified な音楽, i got the truth...\n",
       "KanyeWest  [[verse 1], for my theme song (black), my leat..."
      ]
     },
     "execution_count": 308,
     "metadata": {},
     "output_type": "execute_result"
    }
   ],
   "source": [
    "df_1"
   ]
  },
  {
   "cell_type": "code",
   "execution_count": 309,
   "metadata": {
    "ExecuteTime": {
     "end_time": "2019-05-14T15:29:59.517094Z",
     "start_time": "2019-05-14T15:29:59.510110Z"
    },
    "scrolled": true
   },
   "outputs": [
    {
     "data": {
      "text/plain": [
       "['[part i: 0 to 100]',\n",
       " '[verse 1]',\n",
       " \"fuck bein' on some chill shit\",\n",
       " 'we go 0 to 100, nigga, real quick',\n",
       " 'they be on that rap-to-pay-the-bill shit',\n",
       " \"and i don't feel that shit, not even a little bit\",\n",
       " 'oh lord, know yourself, know your worth, nigga',\n",
       " 'my actions been louder than my words, nigga',\n",
       " 'how you so high, but still so down to earth, nigga?',\n",
       " 'if niggas wanna do it, we can do it on they turf, nigga']"
      ]
     },
     "execution_count": 309,
     "metadata": {},
     "output_type": "execute_result"
    }
   ],
   "source": [
    "df_1.loc['Drake'][0][0:10]"
   ]
  },
  {
   "cell_type": "code",
   "execution_count": 310,
   "metadata": {
    "ExecuteTime": {
     "end_time": "2019-05-14T15:29:59.530058Z",
     "start_time": "2019-05-14T15:29:59.520106Z"
    },
    "scrolled": true
   },
   "outputs": [],
   "source": [
    "song = {}\n",
    "index = list(df_1.index.values)\n",
    "for artst in index:\n",
    "    var_1 = df_1.Lyrics.loc[artst]\n",
    "    song[artst] = []\n",
    "    s = \" \"\n",
    "    s = s.join(var_1)\n",
    "    lst = re.split('\\[(.*?)\\]', s)\n",
    "    for i in lst:\n",
    "        if \":\" in i:\n",
    "            if artst in i:\n",
    "                song[artst].append(i)\n",
    "        else:\n",
    "            song[artst].append(i)"
   ]
  },
  {
   "cell_type": "code",
   "execution_count": 311,
   "metadata": {
    "ExecuteTime": {
     "end_time": "2019-05-14T15:29:59.578927Z",
     "start_time": "2019-05-14T15:29:59.531056Z"
    }
   },
   "outputs": [
    {
     "name": "stdout",
     "output_type": "stream",
     "text": [
      "Drake\n",
      "Artist\n",
      "Drake        [[part i: 0 to 100], [verse 1], fuck bein' on ...\n",
      "Jayz         [[intro: hannah williams], do i find it so har...\n",
      "Nas          [[intro], fuck jay z!, (what's up, niggas?, ay...\n",
      "Eminem       [[verse 1], now this shit's about to kick off,...\n",
      "Future       [[intro], high klassified な音楽, i got the truth...\n",
      "KanyeWest    [[verse 1], for my theme song (black), my leat...\n",
      "Name: Lyrics, dtype: object\n",
      "song[artst]\n",
      "Jayz\n",
      "Artist\n",
      "Drake        [,  , verse 1,  fuck bein' on some chill shit ...\n",
      "Jayz         [[intro: hannah williams], do i find it so har...\n",
      "Nas          [[intro], fuck jay z!, (what's up, niggas?, ay...\n",
      "Eminem       [[verse 1], now this shit's about to kick off,...\n",
      "Future       [[intro], high klassified な音楽, i got the truth...\n",
      "KanyeWest    [[verse 1], for my theme song (black), my leat...\n",
      "Name: Lyrics, dtype: object\n",
      "song[artst]\n",
      "Nas\n",
      "Artist\n",
      "Drake        [,  , verse 1,  fuck bein' on some chill shit ...\n",
      "Jayz         [,  do i find it so hard when i know in my hea...\n",
      "Nas          [[intro], fuck jay z!, (what's up, niggas?, ay...\n",
      "Eminem       [[verse 1], now this shit's about to kick off,...\n",
      "Future       [[intro], high klassified な音楽, i got the truth...\n",
      "KanyeWest    [[verse 1], for my theme song (black), my leat...\n",
      "Name: Lyrics, dtype: object\n",
      "song[artst]\n",
      "Eminem\n",
      "Artist\n",
      "Drake        [,  , verse 1,  fuck bein' on some chill shit ...\n",
      "Jayz         [,  do i find it so hard when i know in my hea...\n",
      "Nas          [, intro,  fuck jay z! (what's up, niggas? ayo...\n",
      "Eminem       [[verse 1], now this shit's about to kick off,...\n",
      "Future       [[intro], high klassified な音楽, i got the truth...\n",
      "KanyeWest    [[verse 1], for my theme song (black), my leat...\n",
      "Name: Lyrics, dtype: object\n",
      "song[artst]\n",
      "Future\n",
      "Artist\n",
      "Drake        [,  , verse 1,  fuck bein' on some chill shit ...\n",
      "Jayz         [,  do i find it so hard when i know in my hea...\n",
      "Nas          [, intro,  fuck jay z! (what's up, niggas? ayo...\n",
      "Eminem       [, verse 1,  now this shit's about to kick off...\n",
      "Future       [[intro], high klassified な音楽, i got the truth...\n",
      "KanyeWest    [[verse 1], for my theme song (black), my leat...\n",
      "Name: Lyrics, dtype: object\n",
      "song[artst]\n",
      "KanyeWest\n",
      "Artist\n",
      "Drake        [,  , verse 1,  fuck bein' on some chill shit ...\n",
      "Jayz         [,  do i find it so hard when i know in my hea...\n",
      "Nas          [, intro,  fuck jay z! (what's up, niggas? ayo...\n",
      "Eminem       [, verse 1,  now this shit's about to kick off...\n",
      "Future       [, intro,  high klassified な音楽 i got the truth...\n",
      "KanyeWest    [[verse 1], for my theme song (black), my leat...\n",
      "Name: Lyrics, dtype: object\n",
      "song[artst]\n"
     ]
    },
    {
     "data": {
      "text/html": [
       "<div>\n",
       "<style scoped>\n",
       "    .dataframe tbody tr th:only-of-type {\n",
       "        vertical-align: middle;\n",
       "    }\n",
       "\n",
       "    .dataframe tbody tr th {\n",
       "        vertical-align: top;\n",
       "    }\n",
       "\n",
       "    .dataframe thead th {\n",
       "        text-align: right;\n",
       "    }\n",
       "</style>\n",
       "<table border=\"1\" class=\"dataframe\">\n",
       "  <thead>\n",
       "    <tr style=\"text-align: right;\">\n",
       "      <th></th>\n",
       "      <th>Lyrics</th>\n",
       "    </tr>\n",
       "    <tr>\n",
       "      <th>Artist</th>\n",
       "      <th></th>\n",
       "    </tr>\n",
       "  </thead>\n",
       "  <tbody>\n",
       "    <tr>\n",
       "      <th>Drake</th>\n",
       "      <td>[,  , verse 1,  fuck bein' on some chill shit ...</td>\n",
       "    </tr>\n",
       "    <tr>\n",
       "      <th>Jayz</th>\n",
       "      <td>[,  do i find it so hard when i know in my hea...</td>\n",
       "    </tr>\n",
       "    <tr>\n",
       "      <th>Nas</th>\n",
       "      <td>[, intro,  fuck jay z! (what's up, niggas? ayo...</td>\n",
       "    </tr>\n",
       "    <tr>\n",
       "      <th>Eminem</th>\n",
       "      <td>[, verse 1,  now this shit's about to kick off...</td>\n",
       "    </tr>\n",
       "    <tr>\n",
       "      <th>Future</th>\n",
       "      <td>[, intro,  high klassified な音楽 i got the truth...</td>\n",
       "    </tr>\n",
       "    <tr>\n",
       "      <th>KanyeWest</th>\n",
       "      <td>[, verse 1,  for my theme song (black) my leat...</td>\n",
       "    </tr>\n",
       "  </tbody>\n",
       "</table>\n",
       "</div>"
      ],
      "text/plain": [
       "                                                      Lyrics\n",
       "Artist                                                      \n",
       "Drake      [,  , verse 1,  fuck bein' on some chill shit ...\n",
       "Jayz       [,  do i find it so hard when i know in my hea...\n",
       "Nas        [, intro,  fuck jay z! (what's up, niggas? ayo...\n",
       "Eminem     [, verse 1,  now this shit's about to kick off...\n",
       "Future     [, intro,  high klassified な音楽 i got the truth...\n",
       "KanyeWest  [, verse 1,  for my theme song (black) my leat..."
      ]
     },
     "execution_count": 311,
     "metadata": {},
     "output_type": "execute_result"
    }
   ],
   "source": [
    "for artst in index:\n",
    "    print(f'{artst}')\n",
    "    rapper = df_1.Lyrics\n",
    "    print(f'{df_1.Lyrics}')\n",
    "    print(f'song[artst]')\n",
    "    rapper.loc[artst] = song[artst]\n",
    "\n",
    "df_1"
   ]
  },
  {
   "cell_type": "code",
   "execution_count": 312,
   "metadata": {
    "ExecuteTime": {
     "end_time": "2019-05-14T15:29:59.589897Z",
     "start_time": "2019-05-14T15:29:59.580922Z"
    }
   },
   "outputs": [
    {
     "name": "stdout",
     "output_type": "stream",
     "text": [
      "Drake\n",
      "Jayz\n",
      "Nas\n",
      "Eminem\n",
      "Future\n",
      "KanyeWest\n"
     ]
    }
   ],
   "source": [
    "song = {}\n",
    "index = list(df_1.index.values)\n",
    "for artst in index:\n",
    "    song[artst] = []\n",
    "    print(f'{artst}')\n",
    "    lst = df_1.loc[artst][0]\n",
    "    for i in lst:\n",
    "        if len(i) > 20:\n",
    "            song[artst].append(i)"
   ]
  },
  {
   "cell_type": "code",
   "execution_count": 313,
   "metadata": {
    "ExecuteTime": {
     "end_time": "2019-05-14T15:29:59.645751Z",
     "start_time": "2019-05-14T15:29:59.591894Z"
    }
   },
   "outputs": [
    {
     "name": "stdout",
     "output_type": "stream",
     "text": [
      "Drake\n",
      "Artist\n",
      "Drake        [,  , verse 1,  fuck bein' on some chill shit ...\n",
      "Jayz         [,  do i find it so hard when i know in my hea...\n",
      "Nas          [, intro,  fuck jay z! (what's up, niggas? ayo...\n",
      "Eminem       [, verse 1,  now this shit's about to kick off...\n",
      "Future       [, intro,  high klassified な音楽 i got the truth...\n",
      "KanyeWest    [, verse 1,  for my theme song (black) my leat...\n",
      "Name: Lyrics, dtype: object\n",
      "song[artst]\n",
      "Jayz\n",
      "Artist\n",
      "Drake        [ fuck bein' on some chill shit we go 0 to 100...\n",
      "Jayz         [,  do i find it so hard when i know in my hea...\n",
      "Nas          [, intro,  fuck jay z! (what's up, niggas? ayo...\n",
      "Eminem       [, verse 1,  now this shit's about to kick off...\n",
      "Future       [, intro,  high klassified な音楽 i got the truth...\n",
      "KanyeWest    [, verse 1,  for my theme song (black) my leat...\n",
      "Name: Lyrics, dtype: object\n",
      "song[artst]\n",
      "Nas\n",
      "Artist\n",
      "Drake        [ fuck bein' on some chill shit we go 0 to 100...\n",
      "Jayz         [ do i find it so hard when i know in my heart...\n",
      "Nas          [, intro,  fuck jay z! (what's up, niggas? ayo...\n",
      "Eminem       [, verse 1,  now this shit's about to kick off...\n",
      "Future       [, intro,  high klassified な音楽 i got the truth...\n",
      "KanyeWest    [, verse 1,  for my theme song (black) my leat...\n",
      "Name: Lyrics, dtype: object\n",
      "song[artst]\n",
      "Eminem\n",
      "Artist\n",
      "Drake        [ fuck bein' on some chill shit we go 0 to 100...\n",
      "Jayz         [ do i find it so hard when i know in my heart...\n",
      "Nas          [ fuck jay z! (what's up, niggas? ayo, i know ...\n",
      "Eminem       [, verse 1,  now this shit's about to kick off...\n",
      "Future       [, intro,  high klassified な音楽 i got the truth...\n",
      "KanyeWest    [, verse 1,  for my theme song (black) my leat...\n",
      "Name: Lyrics, dtype: object\n",
      "song[artst]\n",
      "Future\n",
      "Artist\n",
      "Drake        [ fuck bein' on some chill shit we go 0 to 100...\n",
      "Jayz         [ do i find it so hard when i know in my heart...\n",
      "Nas          [ fuck jay z! (what's up, niggas? ayo, i know ...\n",
      "Eminem       [ now this shit's about to kick off, this part...\n",
      "Future       [, intro,  high klassified な音楽 i got the truth...\n",
      "KanyeWest    [, verse 1,  for my theme song (black) my leat...\n",
      "Name: Lyrics, dtype: object\n",
      "song[artst]\n",
      "KanyeWest\n",
      "Artist\n",
      "Drake        [ fuck bein' on some chill shit we go 0 to 100...\n",
      "Jayz         [ do i find it so hard when i know in my heart...\n",
      "Nas          [ fuck jay z! (what's up, niggas? ayo, i know ...\n",
      "Eminem       [ now this shit's about to kick off, this part...\n",
      "Future       [ high klassified な音楽 i got the truth in me, b...\n",
      "KanyeWest    [, verse 1,  for my theme song (black) my leat...\n",
      "Name: Lyrics, dtype: object\n",
      "song[artst]\n"
     ]
    },
    {
     "data": {
      "text/html": [
       "<div>\n",
       "<style scoped>\n",
       "    .dataframe tbody tr th:only-of-type {\n",
       "        vertical-align: middle;\n",
       "    }\n",
       "\n",
       "    .dataframe tbody tr th {\n",
       "        vertical-align: top;\n",
       "    }\n",
       "\n",
       "    .dataframe thead th {\n",
       "        text-align: right;\n",
       "    }\n",
       "</style>\n",
       "<table border=\"1\" class=\"dataframe\">\n",
       "  <thead>\n",
       "    <tr style=\"text-align: right;\">\n",
       "      <th></th>\n",
       "      <th>Lyrics</th>\n",
       "    </tr>\n",
       "    <tr>\n",
       "      <th>Artist</th>\n",
       "      <th></th>\n",
       "    </tr>\n",
       "  </thead>\n",
       "  <tbody>\n",
       "    <tr>\n",
       "      <th>Drake</th>\n",
       "      <td>[ fuck bein' on some chill shit we go 0 to 100...</td>\n",
       "    </tr>\n",
       "    <tr>\n",
       "      <th>Jayz</th>\n",
       "      <td>[ do i find it so hard when i know in my heart...</td>\n",
       "    </tr>\n",
       "    <tr>\n",
       "      <th>Nas</th>\n",
       "      <td>[ fuck jay z! (what's up, niggas? ayo, i know ...</td>\n",
       "    </tr>\n",
       "    <tr>\n",
       "      <th>Eminem</th>\n",
       "      <td>[ now this shit's about to kick off, this part...</td>\n",
       "    </tr>\n",
       "    <tr>\n",
       "      <th>Future</th>\n",
       "      <td>[ high klassified な音楽 i got the truth in me, b...</td>\n",
       "    </tr>\n",
       "    <tr>\n",
       "      <th>KanyeWest</th>\n",
       "      <td>[ for my theme song (black) my leather black j...</td>\n",
       "    </tr>\n",
       "  </tbody>\n",
       "</table>\n",
       "</div>"
      ],
      "text/plain": [
       "                                                      Lyrics\n",
       "Artist                                                      \n",
       "Drake      [ fuck bein' on some chill shit we go 0 to 100...\n",
       "Jayz       [ do i find it so hard when i know in my heart...\n",
       "Nas        [ fuck jay z! (what's up, niggas? ayo, i know ...\n",
       "Eminem     [ now this shit's about to kick off, this part...\n",
       "Future     [ high klassified な音楽 i got the truth in me, b...\n",
       "KanyeWest  [ for my theme song (black) my leather black j..."
      ]
     },
     "execution_count": 313,
     "metadata": {},
     "output_type": "execute_result"
    }
   ],
   "source": [
    "for artst in index:\n",
    "    print(f'{artst}')\n",
    "    rapper = df_1.Lyrics\n",
    "    print(f'{df_1.Lyrics}')\n",
    "    print(f'song[artst]')\n",
    "    rapper.loc[artst] = song[artst]\n",
    "\n",
    "df_1"
   ]
  },
  {
   "cell_type": "code",
   "execution_count": 314,
   "metadata": {
    "ExecuteTime": {
     "end_time": "2019-05-14T15:29:59.674670Z",
     "start_time": "2019-05-14T15:29:59.647743Z"
    }
   },
   "outputs": [],
   "source": [
    "first_cleaning_session()"
   ]
  },
  {
   "cell_type": "code",
   "execution_count": 315,
   "metadata": {
    "ExecuteTime": {
     "end_time": "2019-05-14T15:29:59.691626Z",
     "start_time": "2019-05-14T15:29:59.676666Z"
    },
    "scrolled": true
   },
   "outputs": [
    {
     "data": {
      "text/html": [
       "<div>\n",
       "<style scoped>\n",
       "    .dataframe tbody tr th:only-of-type {\n",
       "        vertical-align: middle;\n",
       "    }\n",
       "\n",
       "    .dataframe tbody tr th {\n",
       "        vertical-align: top;\n",
       "    }\n",
       "\n",
       "    .dataframe thead th {\n",
       "        text-align: right;\n",
       "    }\n",
       "</style>\n",
       "<table border=\"1\" class=\"dataframe\">\n",
       "  <thead>\n",
       "    <tr style=\"text-align: right;\">\n",
       "      <th></th>\n",
       "      <th>Lyrics</th>\n",
       "    </tr>\n",
       "    <tr>\n",
       "      <th>Artist</th>\n",
       "      <th></th>\n",
       "    </tr>\n",
       "  </thead>\n",
       "  <tbody>\n",
       "    <tr>\n",
       "      <th>Drake</th>\n",
       "      <td>[ fuck bein' on some chill shit we go 0 to 100...</td>\n",
       "    </tr>\n",
       "    <tr>\n",
       "      <th>Jayz</th>\n",
       "      <td>[ do i find it so hard when i know in my heart...</td>\n",
       "    </tr>\n",
       "    <tr>\n",
       "      <th>Nas</th>\n",
       "      <td>[ fuck jay z! (what's up, niggas? ayo, i know ...</td>\n",
       "    </tr>\n",
       "    <tr>\n",
       "      <th>Eminem</th>\n",
       "      <td>[ now this shit's about to kick off, this part...</td>\n",
       "    </tr>\n",
       "    <tr>\n",
       "      <th>Future</th>\n",
       "      <td>[ high klassified な音楽 i got the truth in me, b...</td>\n",
       "    </tr>\n",
       "    <tr>\n",
       "      <th>KanyeWest</th>\n",
       "      <td>[ for my theme song (black) my leather black j...</td>\n",
       "    </tr>\n",
       "  </tbody>\n",
       "</table>\n",
       "</div>"
      ],
      "text/plain": [
       "                                                      Lyrics\n",
       "Artist                                                      \n",
       "Drake      [ fuck bein' on some chill shit we go 0 to 100...\n",
       "Jayz       [ do i find it so hard when i know in my heart...\n",
       "Nas        [ fuck jay z! (what's up, niggas? ayo, i know ...\n",
       "Eminem     [ now this shit's about to kick off, this part...\n",
       "Future     [ high klassified な音楽 i got the truth in me, b...\n",
       "KanyeWest  [ for my theme song (black) my leather black j..."
      ]
     },
     "execution_count": 315,
     "metadata": {},
     "output_type": "execute_result"
    }
   ],
   "source": [
    "df_1"
   ]
  },
  {
   "cell_type": "code",
   "execution_count": 316,
   "metadata": {
    "ExecuteTime": {
     "end_time": "2019-05-14T15:29:59.710575Z",
     "start_time": "2019-05-14T15:29:59.699604Z"
    }
   },
   "outputs": [],
   "source": [
    "index = list(df_1.index.values)\n",
    "rapper = df_1.Lyrics\n",
    "\n",
    "s = \" \"\n",
    "for artist_ in index:\n",
    "    rapper.loc[artist_] = s.join(rapper[artist_])"
   ]
  },
  {
   "cell_type": "markdown",
   "metadata": {},
   "source": [
    "### Corpus"
   ]
  },
  {
   "cell_type": "code",
   "execution_count": 317,
   "metadata": {
    "ExecuteTime": {
     "end_time": "2019-05-14T15:29:59.726539Z",
     "start_time": "2019-05-14T15:29:59.714565Z"
    }
   },
   "outputs": [
    {
     "data": {
      "text/html": [
       "<div>\n",
       "<style scoped>\n",
       "    .dataframe tbody tr th:only-of-type {\n",
       "        vertical-align: middle;\n",
       "    }\n",
       "\n",
       "    .dataframe tbody tr th {\n",
       "        vertical-align: top;\n",
       "    }\n",
       "\n",
       "    .dataframe thead th {\n",
       "        text-align: right;\n",
       "    }\n",
       "</style>\n",
       "<table border=\"1\" class=\"dataframe\">\n",
       "  <thead>\n",
       "    <tr style=\"text-align: right;\">\n",
       "      <th></th>\n",
       "      <th>Lyrics</th>\n",
       "    </tr>\n",
       "    <tr>\n",
       "      <th>Artist</th>\n",
       "      <th></th>\n",
       "    </tr>\n",
       "  </thead>\n",
       "  <tbody>\n",
       "    <tr>\n",
       "      <th>Drake</th>\n",
       "      <td>fuck bein' on some chill shit we go 0 to 100,...</td>\n",
       "    </tr>\n",
       "    <tr>\n",
       "      <th>Jayz</th>\n",
       "      <td>do i find it so hard when i know in my heart ...</td>\n",
       "    </tr>\n",
       "    <tr>\n",
       "      <th>Nas</th>\n",
       "      <td>fuck jay z! (what's up, niggas? ayo, i know y...</td>\n",
       "    </tr>\n",
       "    <tr>\n",
       "      <th>Eminem</th>\n",
       "      <td>now this shit's about to kick off, this party...</td>\n",
       "    </tr>\n",
       "    <tr>\n",
       "      <th>Future</th>\n",
       "      <td>high klassified な音楽 i got the truth in me, ba...</td>\n",
       "    </tr>\n",
       "    <tr>\n",
       "      <th>KanyeWest</th>\n",
       "      <td>for my theme song (black) my leather black je...</td>\n",
       "    </tr>\n",
       "  </tbody>\n",
       "</table>\n",
       "</div>"
      ],
      "text/plain": [
       "                                                      Lyrics\n",
       "Artist                                                      \n",
       "Drake       fuck bein' on some chill shit we go 0 to 100,...\n",
       "Jayz        do i find it so hard when i know in my heart ...\n",
       "Nas         fuck jay z! (what's up, niggas? ayo, i know y...\n",
       "Eminem      now this shit's about to kick off, this party...\n",
       "Future      high klassified な音楽 i got the truth in me, ba...\n",
       "KanyeWest   for my theme song (black) my leather black je..."
      ]
     },
     "execution_count": 317,
     "metadata": {},
     "output_type": "execute_result"
    }
   ],
   "source": [
    "# After cleaning this dataframe is in the form of a corpus.\n",
    "df_1"
   ]
  },
  {
   "cell_type": "code",
   "execution_count": 318,
   "metadata": {
    "ExecuteTime": {
     "end_time": "2019-05-14T15:29:59.750470Z",
     "start_time": "2019-05-14T15:29:59.729524Z"
    }
   },
   "outputs": [
    {
     "data": {
      "text/html": [
       "<div>\n",
       "<style scoped>\n",
       "    .dataframe tbody tr th:only-of-type {\n",
       "        vertical-align: middle;\n",
       "    }\n",
       "\n",
       "    .dataframe tbody tr th {\n",
       "        vertical-align: top;\n",
       "    }\n",
       "\n",
       "    .dataframe thead th {\n",
       "        text-align: right;\n",
       "    }\n",
       "</style>\n",
       "<table border=\"1\" class=\"dataframe\">\n",
       "  <thead>\n",
       "    <tr style=\"text-align: right;\">\n",
       "      <th></th>\n",
       "      <th>Lyrics</th>\n",
       "      <th>Artist Name</th>\n",
       "    </tr>\n",
       "    <tr>\n",
       "      <th>Artist</th>\n",
       "      <th></th>\n",
       "      <th></th>\n",
       "    </tr>\n",
       "  </thead>\n",
       "  <tbody>\n",
       "    <tr>\n",
       "      <th>Drake</th>\n",
       "      <td>fuck bein' on some chill shit we go 0 to 100,...</td>\n",
       "      <td>Drake</td>\n",
       "    </tr>\n",
       "    <tr>\n",
       "      <th>Jayz</th>\n",
       "      <td>do i find it so hard when i know in my heart ...</td>\n",
       "      <td>Jayz</td>\n",
       "    </tr>\n",
       "    <tr>\n",
       "      <th>Nas</th>\n",
       "      <td>fuck jay z! (what's up, niggas? ayo, i know y...</td>\n",
       "      <td>Nas</td>\n",
       "    </tr>\n",
       "    <tr>\n",
       "      <th>Eminem</th>\n",
       "      <td>now this shit's about to kick off, this party...</td>\n",
       "      <td>Eminem</td>\n",
       "    </tr>\n",
       "    <tr>\n",
       "      <th>Future</th>\n",
       "      <td>high klassified な音楽 i got the truth in me, ba...</td>\n",
       "      <td>Future</td>\n",
       "    </tr>\n",
       "    <tr>\n",
       "      <th>KanyeWest</th>\n",
       "      <td>for my theme song (black) my leather black je...</td>\n",
       "      <td>KanyeWest</td>\n",
       "    </tr>\n",
       "  </tbody>\n",
       "</table>\n",
       "</div>"
      ],
      "text/plain": [
       "                                                      Lyrics Artist Name\n",
       "Artist                                                                  \n",
       "Drake       fuck bein' on some chill shit we go 0 to 100,...       Drake\n",
       "Jayz        do i find it so hard when i know in my heart ...        Jayz\n",
       "Nas         fuck jay z! (what's up, niggas? ayo, i know y...         Nas\n",
       "Eminem      now this shit's about to kick off, this party...      Eminem\n",
       "Future      high klassified な音楽 i got the truth in me, ba...      Future\n",
       "KanyeWest   for my theme song (black) my leather black je...   KanyeWest"
      ]
     },
     "execution_count": 318,
     "metadata": {},
     "output_type": "execute_result"
    }
   ],
   "source": [
    "# For visualizations later on let's create a column of the artists' names. \n",
    "full_names = df_1.index.tolist()\n",
    "df_1['Artist Name'] = full_names\n",
    "df_1"
   ]
  },
  {
   "cell_type": "code",
   "execution_count": 319,
   "metadata": {
    "ExecuteTime": {
     "end_time": "2019-05-14T15:29:59.765428Z",
     "start_time": "2019-05-14T15:29:59.756453Z"
    }
   },
   "outputs": [],
   "source": [
    "#pickle it for later use\n",
    "df_1.to_pickle('DataFrame_Corpus.pkl')"
   ]
  },
  {
   "cell_type": "markdown",
   "metadata": {},
   "source": [
    "### Countvectorizer"
   ]
  },
  {
   "cell_type": "code",
   "execution_count": 321,
   "metadata": {
    "ExecuteTime": {
     "end_time": "2019-05-14T15:31:52.644317Z",
     "start_time": "2019-05-14T15:31:52.579975Z"
    }
   },
   "outputs": [
    {
     "data": {
      "text/html": [
       "<div>\n",
       "<style scoped>\n",
       "    .dataframe tbody tr th:only-of-type {\n",
       "        vertical-align: middle;\n",
       "    }\n",
       "\n",
       "    .dataframe tbody tr th {\n",
       "        vertical-align: top;\n",
       "    }\n",
       "\n",
       "    .dataframe thead th {\n",
       "        text-align: right;\n",
       "    }\n",
       "</style>\n",
       "<table border=\"1\" class=\"dataframe\">\n",
       "  <thead>\n",
       "    <tr style=\"text-align: right;\">\n",
       "      <th></th>\n",
       "      <th>000</th>\n",
       "      <th>02</th>\n",
       "      <th>10</th>\n",
       "      <th>100</th>\n",
       "      <th>1008</th>\n",
       "      <th>11</th>\n",
       "      <th>12</th>\n",
       "      <th>140</th>\n",
       "      <th>15</th>\n",
       "      <th>1da</th>\n",
       "      <th>...</th>\n",
       "      <th>zeros</th>\n",
       "      <th>zip</th>\n",
       "      <th>zod</th>\n",
       "      <th>zombie</th>\n",
       "      <th>zone</th>\n",
       "      <th>zonin</th>\n",
       "      <th>zöld</th>\n",
       "      <th>ölén</th>\n",
       "      <th>úgy</th>\n",
       "      <th>な音楽</th>\n",
       "    </tr>\n",
       "    <tr>\n",
       "      <th>Artist</th>\n",
       "      <th></th>\n",
       "      <th></th>\n",
       "      <th></th>\n",
       "      <th></th>\n",
       "      <th></th>\n",
       "      <th></th>\n",
       "      <th></th>\n",
       "      <th></th>\n",
       "      <th></th>\n",
       "      <th></th>\n",
       "      <th></th>\n",
       "      <th></th>\n",
       "      <th></th>\n",
       "      <th></th>\n",
       "      <th></th>\n",
       "      <th></th>\n",
       "      <th></th>\n",
       "      <th></th>\n",
       "      <th></th>\n",
       "      <th></th>\n",
       "      <th></th>\n",
       "    </tr>\n",
       "  </thead>\n",
       "  <tbody>\n",
       "    <tr>\n",
       "      <th>Drake</th>\n",
       "      <td>0</td>\n",
       "      <td>0</td>\n",
       "      <td>0</td>\n",
       "      <td>5</td>\n",
       "      <td>0</td>\n",
       "      <td>0</td>\n",
       "      <td>0</td>\n",
       "      <td>0</td>\n",
       "      <td>1</td>\n",
       "      <td>1</td>\n",
       "      <td>...</td>\n",
       "      <td>0</td>\n",
       "      <td>1</td>\n",
       "      <td>0</td>\n",
       "      <td>0</td>\n",
       "      <td>1</td>\n",
       "      <td>0</td>\n",
       "      <td>0</td>\n",
       "      <td>0</td>\n",
       "      <td>0</td>\n",
       "      <td>0</td>\n",
       "    </tr>\n",
       "    <tr>\n",
       "      <th>Jayz</th>\n",
       "      <td>0</td>\n",
       "      <td>0</td>\n",
       "      <td>0</td>\n",
       "      <td>2</td>\n",
       "      <td>0</td>\n",
       "      <td>2</td>\n",
       "      <td>0</td>\n",
       "      <td>1</td>\n",
       "      <td>0</td>\n",
       "      <td>0</td>\n",
       "      <td>...</td>\n",
       "      <td>0</td>\n",
       "      <td>0</td>\n",
       "      <td>0</td>\n",
       "      <td>0</td>\n",
       "      <td>0</td>\n",
       "      <td>0</td>\n",
       "      <td>0</td>\n",
       "      <td>0</td>\n",
       "      <td>0</td>\n",
       "      <td>0</td>\n",
       "    </tr>\n",
       "    <tr>\n",
       "      <th>Nas</th>\n",
       "      <td>1</td>\n",
       "      <td>0</td>\n",
       "      <td>2</td>\n",
       "      <td>0</td>\n",
       "      <td>0</td>\n",
       "      <td>0</td>\n",
       "      <td>0</td>\n",
       "      <td>0</td>\n",
       "      <td>0</td>\n",
       "      <td>0</td>\n",
       "      <td>...</td>\n",
       "      <td>1</td>\n",
       "      <td>0</td>\n",
       "      <td>0</td>\n",
       "      <td>0</td>\n",
       "      <td>0</td>\n",
       "      <td>0</td>\n",
       "      <td>0</td>\n",
       "      <td>0</td>\n",
       "      <td>0</td>\n",
       "      <td>0</td>\n",
       "    </tr>\n",
       "    <tr>\n",
       "      <th>Eminem</th>\n",
       "      <td>0</td>\n",
       "      <td>1</td>\n",
       "      <td>1</td>\n",
       "      <td>0</td>\n",
       "      <td>0</td>\n",
       "      <td>0</td>\n",
       "      <td>1</td>\n",
       "      <td>0</td>\n",
       "      <td>0</td>\n",
       "      <td>0</td>\n",
       "      <td>...</td>\n",
       "      <td>0</td>\n",
       "      <td>0</td>\n",
       "      <td>1</td>\n",
       "      <td>1</td>\n",
       "      <td>0</td>\n",
       "      <td>0</td>\n",
       "      <td>0</td>\n",
       "      <td>0</td>\n",
       "      <td>0</td>\n",
       "      <td>0</td>\n",
       "    </tr>\n",
       "    <tr>\n",
       "      <th>Future</th>\n",
       "      <td>0</td>\n",
       "      <td>0</td>\n",
       "      <td>0</td>\n",
       "      <td>0</td>\n",
       "      <td>1</td>\n",
       "      <td>0</td>\n",
       "      <td>2</td>\n",
       "      <td>0</td>\n",
       "      <td>0</td>\n",
       "      <td>0</td>\n",
       "      <td>...</td>\n",
       "      <td>0</td>\n",
       "      <td>0</td>\n",
       "      <td>0</td>\n",
       "      <td>0</td>\n",
       "      <td>0</td>\n",
       "      <td>0</td>\n",
       "      <td>0</td>\n",
       "      <td>0</td>\n",
       "      <td>0</td>\n",
       "      <td>1</td>\n",
       "    </tr>\n",
       "    <tr>\n",
       "      <th>KanyeWest</th>\n",
       "      <td>0</td>\n",
       "      <td>0</td>\n",
       "      <td>0</td>\n",
       "      <td>0</td>\n",
       "      <td>0</td>\n",
       "      <td>0</td>\n",
       "      <td>0</td>\n",
       "      <td>0</td>\n",
       "      <td>0</td>\n",
       "      <td>0</td>\n",
       "      <td>...</td>\n",
       "      <td>0</td>\n",
       "      <td>0</td>\n",
       "      <td>0</td>\n",
       "      <td>0</td>\n",
       "      <td>0</td>\n",
       "      <td>3</td>\n",
       "      <td>1</td>\n",
       "      <td>1</td>\n",
       "      <td>1</td>\n",
       "      <td>0</td>\n",
       "    </tr>\n",
       "  </tbody>\n",
       "</table>\n",
       "<p>6 rows × 4465 columns</p>\n",
       "</div>"
      ],
      "text/plain": [
       "           000  02  10  100  1008  11  12  140  15  1da  ...  zeros  zip  zod  \\\n",
       "Artist                                                   ...                    \n",
       "Drake        0   0   0    5     0   0   0    0   1    1  ...      0    1    0   \n",
       "Jayz         0   0   0    2     0   2   0    1   0    0  ...      0    0    0   \n",
       "Nas          1   0   2    0     0   0   0    0   0    0  ...      1    0    0   \n",
       "Eminem       0   1   1    0     0   0   1    0   0    0  ...      0    0    1   \n",
       "Future       0   0   0    0     1   0   2    0   0    0  ...      0    0    0   \n",
       "KanyeWest    0   0   0    0     0   0   0    0   0    0  ...      0    0    0   \n",
       "\n",
       "           zombie  zone  zonin  zöld  ölén  úgy  な音楽  \n",
       "Artist                                                \n",
       "Drake           0     1      0     0     0    0    0  \n",
       "Jayz            0     0      0     0     0    0    0  \n",
       "Nas             0     0      0     0     0    0    0  \n",
       "Eminem          1     0      0     0     0    0    0  \n",
       "Future          0     0      0     0     0    0    1  \n",
       "KanyeWest       0     0      3     1     1    1    0  \n",
       "\n",
       "[6 rows x 4465 columns]"
      ]
     },
     "execution_count": 321,
     "metadata": {},
     "output_type": "execute_result"
    }
   ],
   "source": [
    "cv = CountVectorizer(stop_words='english')\n",
    "df_cv = cv.fit_transform(df_1.Lyrics)\n",
    "df_dtm = pd.DataFrame(df_cv.toarray(), columns=cv.get_feature_names())\n",
    "df_dtm.index = df_1.index\n",
    "df_dtm"
   ]
  },
  {
   "cell_type": "code",
   "execution_count": 322,
   "metadata": {
    "ExecuteTime": {
     "end_time": "2019-05-14T15:45:30.714226Z",
     "start_time": "2019-05-14T15:45:30.698287Z"
    }
   },
   "outputs": [],
   "source": [
    "# Let's pickle it for later use\n",
    "df_dtm.to_pickle('DataFrame_Document_Term_Matrix.pkl')"
   ]
  },
  {
   "cell_type": "markdown",
   "metadata": {
    "heading_collapsed": true
   },
   "source": [
    "# Step 3 Tokenize"
   ]
  },
  {
   "cell_type": "code",
   "execution_count": 225,
   "metadata": {
    "ExecuteTime": {
     "end_time": "2019-05-14T14:33:15.719108Z",
     "start_time": "2019-05-14T14:33:15.247376Z"
    },
    "hidden": true
   },
   "outputs": [
    {
     "data": {
      "text/html": [
       "<div>\n",
       "<style scoped>\n",
       "    .dataframe tbody tr th:only-of-type {\n",
       "        vertical-align: middle;\n",
       "    }\n",
       "\n",
       "    .dataframe tbody tr th {\n",
       "        vertical-align: top;\n",
       "    }\n",
       "\n",
       "    .dataframe thead th {\n",
       "        text-align: right;\n",
       "    }\n",
       "</style>\n",
       "<table border=\"1\" class=\"dataframe\">\n",
       "  <thead>\n",
       "    <tr style=\"text-align: right;\">\n",
       "      <th></th>\n",
       "      <th>Lyrics</th>\n",
       "    </tr>\n",
       "    <tr>\n",
       "      <th>Artist</th>\n",
       "      <th></th>\n",
       "    </tr>\n",
       "  </thead>\n",
       "  <tbody>\n",
       "    <tr>\n",
       "      <th>Drake</th>\n",
       "      <td>[[fuck, bein, ', on, some, chill, shit, we, go...</td>\n",
       "    </tr>\n",
       "    <tr>\n",
       "      <th>Jayz</th>\n",
       "      <td>[[do, i, find, it, so, hard, when, i, know, in...</td>\n",
       "    </tr>\n",
       "    <tr>\n",
       "      <th>Nas</th>\n",
       "      <td>[[fuck, jay, z, !, (, what, 's, up, ,, niggas,...</td>\n",
       "    </tr>\n",
       "    <tr>\n",
       "      <th>Eminem</th>\n",
       "      <td>[[now, this, shit, 's, about, to, kick, off, ,...</td>\n",
       "    </tr>\n",
       "    <tr>\n",
       "      <th>Future</th>\n",
       "      <td>[[high, klassified, な音楽, i, got, the, truth, i...</td>\n",
       "    </tr>\n",
       "    <tr>\n",
       "      <th>KanyeWest</th>\n",
       "      <td>[[for, my, theme, song, (, black, ), my, leath...</td>\n",
       "    </tr>\n",
       "  </tbody>\n",
       "</table>\n",
       "</div>"
      ],
      "text/plain": [
       "                                                      Lyrics\n",
       "Artist                                                      \n",
       "Drake      [[fuck, bein, ', on, some, chill, shit, we, go...\n",
       "Jayz       [[do, i, find, it, so, hard, when, i, know, in...\n",
       "Nas        [[fuck, jay, z, !, (, what, 's, up, ,, niggas,...\n",
       "Eminem     [[now, this, shit, 's, about, to, kick, off, ,...\n",
       "Future     [[high, klassified, な音楽, i, got, the, truth, i...\n",
       "KanyeWest  [[for, my, theme, song, (, black, ), my, leath..."
      ]
     },
     "execution_count": 225,
     "metadata": {},
     "output_type": "execute_result"
    }
   ],
   "source": [
    "index = list(df_1.index.values)\n",
    "rapper = df_1.Lyrics\n",
    "for artist_ in index:\n",
    "    rapper.loc[artist_] = [nltk.word_tokenize(rapper.loc[artist_][i]) for i in range(len(rapper.loc[artist_]))]\n",
    "\n",
    "df_1"
   ]
  },
  {
   "cell_type": "markdown",
   "metadata": {
    "heading_collapsed": true
   },
   "source": [
    "# Add'l cleaning functions"
   ]
  },
  {
   "cell_type": "markdown",
   "metadata": {
    "hidden": true
   },
   "source": [
    "Credit due to KDNuggets' Text Data Preprocessing Walkthrough"
   ]
  },
  {
   "cell_type": "code",
   "execution_count": 226,
   "metadata": {
    "ExecuteTime": {
     "end_time": "2019-05-14T14:33:22.074942Z",
     "start_time": "2019-05-14T14:33:22.070952Z"
    },
    "hidden": true
   },
   "outputs": [],
   "source": [
    "def remove_punctuation(words):\n",
    "    \"\"\"Remove punctuation from list of tokenized words\"\"\"\n",
    "    new_words = []\n",
    "    for word in words:\n",
    "        new_word = re.sub(r'[^\\w\\s]', '', word)\n",
    "        if new_word != '': # we don't want to append empty spaces now that we have refined list with out punctuation.\n",
    "            new_words.append(new_word)\n",
    "    return new_words"
   ]
  },
  {
   "cell_type": "code",
   "execution_count": 227,
   "metadata": {
    "ExecuteTime": {
     "end_time": "2019-05-14T14:33:22.357229Z",
     "start_time": "2019-05-14T14:33:22.352239Z"
    },
    "hidden": true
   },
   "outputs": [],
   "source": [
    "def replace_numbers_with_their_text_form(words):\n",
    "    \"\"\"Replace all interger occurrences in list of tokenized words with textual representation\"\"\"\n",
    "    p = inflect.engine()\n",
    "    new_words = []\n",
    "    for word in words:\n",
    "        if word.isdigit(): # it can recognize digits and if it is...\n",
    "            new_word = p.number_to_words(word) # converts it to words\n",
    "            new_words.append(new_word) # then appends\n",
    "        else:\n",
    "            new_words.append(word) # if not it just appends\n",
    "    return new_words #after all of that it returns the lsit"
   ]
  },
  {
   "cell_type": "code",
   "execution_count": 228,
   "metadata": {
    "ExecuteTime": {
     "end_time": "2019-05-14T14:33:22.607613Z",
     "start_time": "2019-05-14T14:33:22.602624Z"
    },
    "hidden": true
   },
   "outputs": [],
   "source": [
    "def remove_stopwords(words):\n",
    "    \"\"\"Remove stop words from list of tokenized words\"\"\"\n",
    "    new_words = []\n",
    "    for word in words:\n",
    "        if word not in stopwords.words('english'): # if it doesn't exist in the stop words list...\n",
    "            new_words.append(word)\n",
    "    return new_words"
   ]
  },
  {
   "cell_type": "code",
   "execution_count": 229,
   "metadata": {
    "ExecuteTime": {
     "end_time": "2019-05-14T14:33:22.857974Z",
     "start_time": "2019-05-14T14:33:22.853953Z"
    },
    "hidden": true
   },
   "outputs": [],
   "source": [
    "def stemming_the_words(words):\n",
    "    \"\"\"stem the words. As in turn them into their dictionary root word.\n",
    "    Lancaster Stemmer is apparently extremely aggressive in cutting down\n",
    "    your words so I read that porter is subtle but fast, so going to switch to Porter2\n",
    "    also known as snowball.\"\"\"\n",
    "    new_words = []\n",
    "    for word in words:\n",
    "        stemmer = SnowballStemmer('english') # don't need to do it cause already done above but you can ignore stopwords here.\n",
    "        stems =[]\n",
    "        for word in words:\n",
    "            stem = stemmer.stem(word)\n",
    "            stems.append(stem)\n",
    "    return stems"
   ]
  },
  {
   "cell_type": "code",
   "execution_count": 230,
   "metadata": {
    "ExecuteTime": {
     "end_time": "2019-05-14T14:33:23.254330Z",
     "start_time": "2019-05-14T14:33:23.251336Z"
    },
    "hidden": true
   },
   "outputs": [],
   "source": [
    "def lemmatize_verbs(words):\n",
    "    \"\"\"Lemmatize just the verbs in list of tokenized words. \n",
    "    Don't know if they were stemmed in the previous function. Would love\n",
    "    to know what happens to them prior to lemmatizing. Also would it be \n",
    "    the same if I did this with nouns and adjectives\"\"\"\n",
    "    lemmatizer = WordNetLemmatizer()\n",
    "    lemmas = []\n",
    "    for word in words:\n",
    "        lemma = lemmatizer.lemmatize(word, pos='v')\n",
    "        lemmas.append(lemma)\n",
    "    return lemmas"
   ]
  },
  {
   "cell_type": "code",
   "execution_count": 231,
   "metadata": {
    "ExecuteTime": {
     "end_time": "2019-05-14T14:33:23.713504Z",
     "start_time": "2019-05-14T14:33:23.709476Z"
    },
    "hidden": true
   },
   "outputs": [],
   "source": [
    "# Apply the functions to the tokenized list\n",
    "def normalize(words):\n",
    "    words = remove_punctuation(words)                     \n",
    "    words = remove_stopwords(words)                     \n",
    "    words = replace_numbers_with_their_text_form(words)   \n",
    "    return words"
   ]
  },
  {
   "cell_type": "code",
   "execution_count": null,
   "metadata": {
    "ExecuteTime": {
     "end_time": "2019-05-14T14:33:25.018622Z",
     "start_time": "2019-05-14T14:33:24.996679Z"
    },
    "hidden": true,
    "scrolled": true
   },
   "outputs": [],
   "source": [
    "for artst in index:\n",
    "    normalize(df_1.Lyrics[artst])"
   ]
  },
  {
   "cell_type": "code",
   "execution_count": 224,
   "metadata": {
    "ExecuteTime": {
     "end_time": "2019-05-14T14:32:48.711747Z",
     "start_time": "2019-05-14T14:32:48.692799Z"
    },
    "hidden": true
   },
   "outputs": [
    {
     "data": {
      "text/html": [
       "<div>\n",
       "<style scoped>\n",
       "    .dataframe tbody tr th:only-of-type {\n",
       "        vertical-align: middle;\n",
       "    }\n",
       "\n",
       "    .dataframe tbody tr th {\n",
       "        vertical-align: top;\n",
       "    }\n",
       "\n",
       "    .dataframe thead th {\n",
       "        text-align: right;\n",
       "    }\n",
       "</style>\n",
       "<table border=\"1\" class=\"dataframe\">\n",
       "  <thead>\n",
       "    <tr style=\"text-align: right;\">\n",
       "      <th></th>\n",
       "      <th>Lyrics</th>\n",
       "    </tr>\n",
       "    <tr>\n",
       "      <th>Artist</th>\n",
       "      <th></th>\n",
       "    </tr>\n",
       "  </thead>\n",
       "  <tbody>\n",
       "    <tr>\n",
       "      <th>Drake</th>\n",
       "      <td>[ fuck bein' on some chill shit we go 0 to 100...</td>\n",
       "    </tr>\n",
       "    <tr>\n",
       "      <th>Jayz</th>\n",
       "      <td>[ do i find it so hard when i know in my heart...</td>\n",
       "    </tr>\n",
       "    <tr>\n",
       "      <th>Nas</th>\n",
       "      <td>[ fuck jay z! (what's up, niggas? ayo, i know ...</td>\n",
       "    </tr>\n",
       "    <tr>\n",
       "      <th>Eminem</th>\n",
       "      <td>[ now this shit's about to kick off, this part...</td>\n",
       "    </tr>\n",
       "    <tr>\n",
       "      <th>Future</th>\n",
       "      <td>[ high klassified な音楽 i got the truth in me, b...</td>\n",
       "    </tr>\n",
       "    <tr>\n",
       "      <th>KanyeWest</th>\n",
       "      <td>[ for my theme song (black) my leather black j...</td>\n",
       "    </tr>\n",
       "  </tbody>\n",
       "</table>\n",
       "</div>"
      ],
      "text/plain": [
       "                                                      Lyrics\n",
       "Artist                                                      \n",
       "Drake      [ fuck bein' on some chill shit we go 0 to 100...\n",
       "Jayz       [ do i find it so hard when i know in my heart...\n",
       "Nas        [ fuck jay z! (what's up, niggas? ayo, i know ...\n",
       "Eminem     [ now this shit's about to kick off, this part...\n",
       "Future     [ high klassified な音楽 i got the truth in me, b...\n",
       "KanyeWest  [ for my theme song (black) my leather black j..."
      ]
     },
     "execution_count": 224,
     "metadata": {},
     "output_type": "execute_result"
    }
   ],
   "source": [
    "df_1"
   ]
  },
  {
   "cell_type": "code",
   "execution_count": 50,
   "metadata": {
    "hidden": true
   },
   "outputs": [],
   "source": [
    "# Stemmed and Lemmatized words\n",
    "def stem_and_lemmatized_words(words):\n",
    "    lemma = lemmatize_verbs    (words)  \n",
    "    stem  = stemming_the_words (words)\n",
    "    return stem, lemma"
   ]
  },
  {
   "cell_type": "code",
   "execution_count": null,
   "metadata": {
    "hidden": true,
    "scrolled": true
   },
   "outputs": [],
   "source": [
    "stem, lemma = stem_and_lemmatized_words(words)\n",
    "print('Stemmed:\\n\\n', stem)\n",
    "print()\n",
    "print('Lemmatized:\\n\\n', lemma)"
   ]
  },
  {
   "cell_type": "markdown",
   "metadata": {
    "heading_collapsed": true
   },
   "source": [
    "# Save to File"
   ]
  },
  {
   "cell_type": "code",
   "execution_count": null,
   "metadata": {
    "hidden": true
   },
   "outputs": [],
   "source": [
    "with open('lemmatized_list','wb') as f:\n",
    "    pickle.dump(lemma, f)"
   ]
  },
  {
   "cell_type": "code",
   "execution_count": null,
   "metadata": {
    "hidden": true
   },
   "outputs": [],
   "source": [
    "with open('stemmed_list', 'wb') as f:\n",
    "    pickle.dump(stem, f)"
   ]
  },
  {
   "cell_type": "code",
   "execution_count": null,
   "metadata": {
    "hidden": true
   },
   "outputs": [],
   "source": [
    "with open('corpus_list_raw', 'wb') as f:\n",
    "    pickle.dump(corpus, f)"
   ]
  },
  {
   "cell_type": "code",
   "execution_count": null,
   "metadata": {
    "hidden": true
   },
   "outputs": [],
   "source": [
    "# see if they saved okay\n",
    "with open('lemmatized_list', 'rb') as f:\n",
    "    lemma = pickle.load(f)"
   ]
  },
  {
   "cell_type": "code",
   "execution_count": null,
   "metadata": {
    "hidden": true
   },
   "outputs": [],
   "source": [
    "lemma"
   ]
  },
  {
   "cell_type": "code",
   "execution_count": null,
   "metadata": {
    "hidden": true
   },
   "outputs": [],
   "source": [
    "with open('stemmed_list', 'rb') as f:\n",
    "    stem = pickle.load(f)\n",
    "\n",
    "stem"
   ]
  },
  {
   "cell_type": "code",
   "execution_count": null,
   "metadata": {
    "hidden": true
   },
   "outputs": [],
   "source": [
    "with open ('corpus_list_raw', 'rb') as f:\n",
    "    corpus = pickle.load(f)\n",
    "    \n",
    "corpus"
   ]
  }
 ],
 "metadata": {
  "kernelspec": {
   "display_name": "Python 3",
   "language": "python",
   "name": "python3"
  },
  "language_info": {
   "codemirror_mode": {
    "name": "ipython",
    "version": 3
   },
   "file_extension": ".py",
   "mimetype": "text/x-python",
   "name": "python",
   "nbconvert_exporter": "python",
   "pygments_lexer": "ipython3",
   "version": "3.7.1"
  },
  "toc": {
   "base_numbering": 1,
   "nav_menu": {},
   "number_sections": true,
   "sideBar": true,
   "skip_h1_title": false,
   "title_cell": "Table of Contents",
   "title_sidebar": "Contents",
   "toc_cell": false,
   "toc_position": {},
   "toc_section_display": true,
   "toc_window_display": false
  },
  "varInspector": {
   "cols": {
    "lenName": 16,
    "lenType": 16,
    "lenVar": 40
   },
   "kernels_config": {
    "python": {
     "delete_cmd_postfix": "",
     "delete_cmd_prefix": "del ",
     "library": "var_list.py",
     "varRefreshCmd": "print(var_dic_list())"
    },
    "r": {
     "delete_cmd_postfix": ") ",
     "delete_cmd_prefix": "rm(",
     "library": "var_list.r",
     "varRefreshCmd": "cat(var_dic_list()) "
    }
   },
   "types_to_exclude": [
    "module",
    "function",
    "builtin_function_or_method",
    "instance",
    "_Feature"
   ],
   "window_display": false
  }
 },
 "nbformat": 4,
 "nbformat_minor": 2
}

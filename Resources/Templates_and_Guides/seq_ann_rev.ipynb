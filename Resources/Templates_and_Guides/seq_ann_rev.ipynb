{
 "cells": [
  {
   "cell_type": "code",
   "execution_count": 1,
   "metadata": {
    "ExecuteTime": {
     "end_time": "2019-05-16T04:29:29.633569Z",
     "start_time": "2019-05-16T04:29:29.364622Z"
    }
   },
   "outputs": [],
   "source": [
    "# !pip install numpy==1.16.2\n",
    "import numpy as np"
   ]
  },
  {
   "cell_type": "code",
   "execution_count": 2,
   "metadata": {
    "ExecuteTime": {
     "end_time": "2019-05-16T04:29:37.820580Z",
     "start_time": "2019-05-16T04:29:32.010616Z"
    },
    "scrolled": true
   },
   "outputs": [
    {
     "name": "stderr",
     "output_type": "stream",
     "text": [
      "Using TensorFlow backend.\n"
     ]
    }
   ],
   "source": [
    "from keras.layers import Embedding"
   ]
  },
  {
   "cell_type": "code",
   "execution_count": 21,
   "metadata": {
    "ExecuteTime": {
     "end_time": "2019-05-13T21:32:14.401196Z",
     "start_time": "2019-05-13T21:32:10.580103Z"
    }
   },
   "outputs": [],
   "source": [
    "from keras import preprocessing\n",
    "\n",
    "max_features = 10000\n",
    "maxlen = 20\n",
    "\n",
    "(x_train, y_train), (x_test, y_test) = imdb.load_data(num_words = max_features,skip_top=5)"
   ]
  },
  {
   "cell_type": "code",
   "execution_count": 22,
   "metadata": {
    "ExecuteTime": {
     "end_time": "2019-05-13T21:32:14.827805Z",
     "start_time": "2019-05-13T21:32:14.453743Z"
    }
   },
   "outputs": [],
   "source": [
    "x_train = preprocessing.sequence.pad_sequences(x_train, maxlen = maxlen)\n",
    "x_test = preprocessing.sequence.pad_sequences(x_test, maxlen = maxlen)"
   ]
  },
  {
   "cell_type": "code",
   "execution_count": 23,
   "metadata": {
    "ExecuteTime": {
     "end_time": "2019-05-13T21:32:14.883594Z",
     "start_time": "2019-05-13T21:32:14.879606Z"
    }
   },
   "outputs": [],
   "source": [
    "from keras.models import Sequential\n",
    "from keras.layers import Flatten, Dense, Embedding"
   ]
  },
  {
   "cell_type": "code",
   "execution_count": 24,
   "metadata": {
    "ExecuteTime": {
     "end_time": "2019-05-13T21:32:15.038181Z",
     "start_time": "2019-05-13T21:32:14.945429Z"
    }
   },
   "outputs": [
    {
     "name": "stdout",
     "output_type": "stream",
     "text": [
      "_________________________________________________________________\n",
      "Layer (type)                 Output Shape              Param #   \n",
      "=================================================================\n",
      "embedding_7 (Embedding)      (None, 20, 8)             80000     \n",
      "_________________________________________________________________\n",
      "flatten_2 (Flatten)          (None, 160)               0         \n",
      "_________________________________________________________________\n",
      "dense_6 (Dense)              (None, 1)                 161       \n",
      "=================================================================\n",
      "Total params: 80,161\n",
      "Trainable params: 80,161\n",
      "Non-trainable params: 0\n",
      "_________________________________________________________________\n"
     ]
    }
   ],
   "source": [
    "model = Sequential()\n",
    "model.add(Embedding(10000, 8, input_length=20))\n",
    "model.add(Flatten())\n",
    "model.add(Dense(1, activation = 'sigmoid'))\n",
    "model.compile(optimizer = 'rmsprop', loss = 'binary_crossentropy', metrics = ['acc'])\n",
    "model.summary()"
   ]
  },
  {
   "cell_type": "code",
   "execution_count": 25,
   "metadata": {
    "ExecuteTime": {
     "end_time": "2019-05-13T21:32:24.399148Z",
     "start_time": "2019-05-13T21:32:15.100015Z"
    }
   },
   "outputs": [
    {
     "name": "stdout",
     "output_type": "stream",
     "text": [
      "Train on 20000 samples, validate on 5000 samples\n",
      "Epoch 1/10\n",
      "20000/20000 [==============================] - 1s 75us/step - loss: 0.6756 - acc: 0.6069 - val_loss: 0.6387 - val_acc: 0.6796\n",
      "Epoch 2/10\n",
      "20000/20000 [==============================] - 1s 43us/step - loss: 0.5645 - acc: 0.7431 - val_loss: 0.5458 - val_acc: 0.7196\n",
      "Epoch 3/10\n",
      "20000/20000 [==============================] - 1s 41us/step - loss: 0.4744 - acc: 0.7814 - val_loss: 0.5111 - val_acc: 0.7386\n",
      "Epoch 4/10\n",
      "20000/20000 [==============================] - 1s 46us/step - loss: 0.4263 - acc: 0.8069 - val_loss: 0.5010 - val_acc: 0.7466\n",
      "Epoch 5/10\n",
      "20000/20000 [==============================] - 1s 40us/step - loss: 0.3935 - acc: 0.8246 - val_loss: 0.4984 - val_acc: 0.7556\n",
      "Epoch 6/10\n",
      "20000/20000 [==============================] - 1s 41us/step - loss: 0.3676 - acc: 0.8392 - val_loss: 0.5016 - val_acc: 0.7566\n",
      "Epoch 7/10\n",
      "20000/20000 [==============================] - 1s 40us/step - loss: 0.3445 - acc: 0.8524 - val_loss: 0.5052 - val_acc: 0.7540\n",
      "Epoch 8/10\n",
      "20000/20000 [==============================] - 1s 40us/step - loss: 0.3233 - acc: 0.8647 - val_loss: 0.5132 - val_acc: 0.7496\n",
      "Epoch 9/10\n",
      "20000/20000 [==============================] - 1s 45us/step - loss: 0.3033 - acc: 0.8745 - val_loss: 0.5210 - val_acc: 0.7522\n",
      "Epoch 10/10\n",
      "20000/20000 [==============================] - 1s 40us/step - loss: 0.2848 - acc: 0.8848 - val_loss: 0.5297 - val_acc: 0.7492\n"
     ]
    }
   ],
   "source": [
    "history = model.fit(x_train, y_train, epochs = 10, batch_size = 32, validation_split=0.2)"
   ]
  },
  {
   "cell_type": "code",
   "execution_count": 26,
   "metadata": {
    "ExecuteTime": {
     "end_time": "2019-05-13T21:32:24.457991Z",
     "start_time": "2019-05-13T21:32:24.454004Z"
    }
   },
   "outputs": [],
   "source": [
    "from keras.models import Sequential\n",
    "from keras.layers import Embedding, SimpleRNN"
   ]
  },
  {
   "cell_type": "code",
   "execution_count": 27,
   "metadata": {
    "ExecuteTime": {
     "end_time": "2019-05-13T21:32:24.619559Z",
     "start_time": "2019-05-13T21:32:24.508855Z"
    }
   },
   "outputs": [
    {
     "name": "stdout",
     "output_type": "stream",
     "text": [
      "_________________________________________________________________\n",
      "Layer (type)                 Output Shape              Param #   \n",
      "=================================================================\n",
      "embedding_8 (Embedding)      (None, None, 32)          320000    \n",
      "_________________________________________________________________\n",
      "simple_rnn_2 (SimpleRNN)     (None, 32)                2080      \n",
      "_________________________________________________________________\n",
      "dense_7 (Dense)              (None, 1)                 33        \n",
      "=================================================================\n",
      "Total params: 322,113\n",
      "Trainable params: 322,113\n",
      "Non-trainable params: 0\n",
      "_________________________________________________________________\n"
     ]
    }
   ],
   "source": [
    "model = Sequential()\n",
    "model.add(Embedding(10000, 32))\n",
    "model.add(SimpleRNN(32))\n",
    "model.add(Dense(1, activation = 'sigmoid'))\n",
    "model.summary()"
   ]
  },
  {
   "cell_type": "code",
   "execution_count": 28,
   "metadata": {
    "ExecuteTime": {
     "end_time": "2019-05-13T21:32:41.550284Z",
     "start_time": "2019-05-13T21:32:24.676414Z"
    }
   },
   "outputs": [
    {
     "name": "stdout",
     "output_type": "stream",
     "text": [
      "Train on 20000 samples, validate on 5000 samples\n",
      "Epoch 1/10\n",
      "20000/20000 [==============================] - 3s 130us/step - loss: 0.6158 - acc: 0.6447 - val_loss: 0.5316 - val_acc: 0.7206\n",
      "Epoch 2/10\n",
      "20000/20000 [==============================] - 2s 81us/step - loss: 0.4442 - acc: 0.7944 - val_loss: 0.5978 - val_acc: 0.7164\n",
      "Epoch 3/10\n",
      "20000/20000 [==============================] - 2s 99us/step - loss: 0.3534 - acc: 0.8452 - val_loss: 0.5458 - val_acc: 0.7454\n",
      "Epoch 4/10\n",
      "20000/20000 [==============================] - 2s 77us/step - loss: 0.2670 - acc: 0.8932 - val_loss: 0.6310 - val_acc: 0.7130\n",
      "Epoch 5/10\n",
      "20000/20000 [==============================] - 1s 74us/step - loss: 0.1867 - acc: 0.9308 - val_loss: 0.7401 - val_acc: 0.7218\n",
      "Epoch 6/10\n",
      "20000/20000 [==============================] - 1s 72us/step - loss: 0.1209 - acc: 0.9579 - val_loss: 0.8263 - val_acc: 0.7020\n",
      "Epoch 7/10\n",
      "20000/20000 [==============================] - 1s 71us/step - loss: 0.0714 - acc: 0.9766 - val_loss: 0.9498 - val_acc: 0.6952\n",
      "Epoch 8/10\n",
      "20000/20000 [==============================] - 1s 72us/step - loss: 0.0405 - acc: 0.9881 - val_loss: 1.0675 - val_acc: 0.7000\n",
      "Epoch 9/10\n",
      "20000/20000 [==============================] - 1s 73us/step - loss: 0.0218 - acc: 0.9941 - val_loss: 1.2313 - val_acc: 0.6908\n",
      "Epoch 10/10\n",
      "20000/20000 [==============================] - 1s 71us/step - loss: 0.0108 - acc: 0.9978 - val_loss: 1.3880 - val_acc: 0.6878\n"
     ]
    }
   ],
   "source": [
    "model.compile(optimizer = 'rmsprop', loss = 'binary_crossentropy', metrics = ['acc'])\n",
    "history = model.fit(x_train, y_train, epochs = 10, batch_size = 128, validation_split = 0.2)"
   ]
  },
  {
   "cell_type": "code",
   "execution_count": 29,
   "metadata": {
    "ExecuteTime": {
     "end_time": "2019-05-13T21:32:41.911325Z",
     "start_time": "2019-05-13T21:32:41.629074Z"
    }
   },
   "outputs": [
    {
     "name": "stdout",
     "output_type": "stream",
     "text": [
      "_________________________________________________________________\n",
      "Layer (type)                 Output Shape              Param #   \n",
      "=================================================================\n",
      "embedding_9 (Embedding)      (None, None, 32)          320000    \n",
      "_________________________________________________________________\n",
      "lstm_2 (LSTM)                (None, 32)                8320      \n",
      "_________________________________________________________________\n",
      "dense_8 (Dense)              (None, 1)                 33        \n",
      "=================================================================\n",
      "Total params: 328,353\n",
      "Trainable params: 328,353\n",
      "Non-trainable params: 0\n",
      "_________________________________________________________________\n"
     ]
    }
   ],
   "source": [
    "from keras.layers import LSTM\n",
    "model = Sequential()\n",
    "model.add(Embedding(10000, 32))\n",
    "model.add(LSTM(32))\n",
    "model.add(Dense(1, activation = 'sigmoid'))\n",
    "model.summary()"
   ]
  },
  {
   "cell_type": "code",
   "execution_count": 30,
   "metadata": {
    "ExecuteTime": {
     "end_time": "2019-05-13T21:33:19.416028Z",
     "start_time": "2019-05-13T21:32:41.962184Z"
    },
    "scrolled": false
   },
   "outputs": [
    {
     "name": "stdout",
     "output_type": "stream",
     "text": [
      "Train on 20000 samples, validate on 5000 samples\n",
      "Epoch 1/10\n",
      "20000/20000 [==============================] - 5s 273us/step - loss: 0.5790 - acc: 0.6906 - val_loss: 0.5131 - val_acc: 0.7452\n",
      "Epoch 2/10\n",
      "20000/20000 [==============================] - 3s 159us/step - loss: 0.4409 - acc: 0.7946 - val_loss: 0.4977 - val_acc: 0.7506\n",
      "Epoch 3/10\n",
      "20000/20000 [==============================] - 3s 157us/step - loss: 0.3952 - acc: 0.8224 - val_loss: 0.4859 - val_acc: 0.7560\n",
      "Epoch 4/10\n",
      "20000/20000 [==============================] - 3s 158us/step - loss: 0.3688 - acc: 0.8393 - val_loss: 0.5035 - val_acc: 0.7526\n",
      "Epoch 5/10\n",
      "20000/20000 [==============================] - 3s 160us/step - loss: 0.3514 - acc: 0.8463 - val_loss: 0.5457 - val_acc: 0.7464\n",
      "Epoch 6/10\n",
      "20000/20000 [==============================] - 4s 184us/step - loss: 0.3383 - acc: 0.8534 - val_loss: 0.5287 - val_acc: 0.7504\n",
      "Epoch 7/10\n",
      "20000/20000 [==============================] - 4s 186us/step - loss: 0.3255 - acc: 0.8596 - val_loss: 0.5440 - val_acc: 0.7504\n",
      "Epoch 8/10\n",
      "20000/20000 [==============================] - 4s 179us/step - loss: 0.3148 - acc: 0.8651 - val_loss: 0.5354 - val_acc: 0.7488\n",
      "Epoch 9/10\n",
      "20000/20000 [==============================] - 4s 179us/step - loss: 0.3044 - acc: 0.8714 - val_loss: 0.5660 - val_acc: 0.7508\n",
      "Epoch 10/10\n",
      "20000/20000 [==============================] - 4s 183us/step - loss: 0.2928 - acc: 0.8770 - val_loss: 0.5674 - val_acc: 0.7416\n"
     ]
    }
   ],
   "source": [
    "model.compile(optimizer = 'rmsprop', loss = 'binary_crossentropy', metrics = ['acc'])\n",
    "history = model.fit(x_train, y_train, epochs = 10, batch_size = 128, validation_split = 0.2)"
   ]
  },
  {
   "cell_type": "code",
   "execution_count": 31,
   "metadata": {
    "ExecuteTime": {
     "end_time": "2019-05-13T21:33:19.495816Z",
     "start_time": "2019-05-13T21:33:19.490830Z"
    }
   },
   "outputs": [],
   "source": [
    "from keras.models import Sequential\n",
    "from keras import layers\n",
    "from keras.optimizers import RMSprop"
   ]
  },
  {
   "cell_type": "code",
   "execution_count": 32,
   "metadata": {
    "ExecuteTime": {
     "end_time": "2019-05-13T21:33:19.735217Z",
     "start_time": "2019-05-13T21:33:19.565628Z"
    }
   },
   "outputs": [
    {
     "name": "stdout",
     "output_type": "stream",
     "text": [
      "_________________________________________________________________\n",
      "Layer (type)                 Output Shape              Param #   \n",
      "=================================================================\n",
      "embedding_10 (Embedding)     (None, 20, 128)           1280000   \n",
      "_________________________________________________________________\n",
      "conv1d_7 (Conv1D)            (None, 14, 32)            28704     \n",
      "_________________________________________________________________\n",
      "max_pooling1d_4 (MaxPooling1 (None, 3, 32)             0         \n",
      "_________________________________________________________________\n",
      "conv1d_8 (Conv1D)            (None, 1, 32)             3104      \n",
      "_________________________________________________________________\n",
      "global_max_pooling1d_3 (Glob (None, 32)                0         \n",
      "_________________________________________________________________\n",
      "dense_9 (Dense)              (None, 1)                 33        \n",
      "=================================================================\n",
      "Total params: 1,311,841\n",
      "Trainable params: 1,311,841\n",
      "Non-trainable params: 0\n",
      "_________________________________________________________________\n"
     ]
    }
   ],
   "source": [
    "model = Sequential()\n",
    "model.add(layers.Embedding(max_features, 128, input_length = 20))\n",
    "model.add(layers.Conv1D(32, 7, activation = 'relu'))\n",
    "model.add(layers.MaxPooling1D(4))\n",
    "model.add(layers.Conv1D(32, 3, activation = 'relu'))\n",
    "model.add(layers.GlobalMaxPool1D())\n",
    "model.add(layers.Dense(1))\n",
    "model.summary()\n",
    "model.compile(optimizer = RMSprop(lr = 1e-4), loss = 'binary_crossentropy', metrics = ['acc'])\n"
   ]
  },
  {
   "cell_type": "code",
   "execution_count": 33,
   "metadata": {
    "ExecuteTime": {
     "end_time": "2019-05-13T21:34:15.101121Z",
     "start_time": "2019-05-13T21:33:19.736212Z"
    }
   },
   "outputs": [
    {
     "name": "stdout",
     "output_type": "stream",
     "text": [
      "Train on 20000 samples, validate on 5000 samples\n",
      "Epoch 1/10\n",
      "20000/20000 [==============================] - 6s 302us/step - loss: 0.7583 - acc: 0.6266 - val_loss: 0.6586 - val_acc: 0.6858\n",
      "Epoch 2/10\n",
      "20000/20000 [==============================] - 5s 253us/step - loss: 0.4957 - acc: 0.7865 - val_loss: 0.5898 - val_acc: 0.7114\n",
      "Epoch 3/10\n",
      "20000/20000 [==============================] - 5s 254us/step - loss: 0.3640 - acc: 0.8433 - val_loss: 0.9229 - val_acc: 0.6578\n",
      "Epoch 4/10\n",
      "20000/20000 [==============================] - 5s 253us/step - loss: 0.2303 - acc: 0.8382 - val_loss: 1.1388 - val_acc: 0.6286\n",
      "Epoch 5/10\n",
      "20000/20000 [==============================] - 5s 259us/step - loss: 0.1214 - acc: 0.7347 - val_loss: 2.0436 - val_acc: 0.5142\n",
      "Epoch 6/10\n",
      "20000/20000 [==============================] - 5s 273us/step - loss: 0.0713 - acc: 0.4599 - val_loss: 2.5234 - val_acc: 0.4398\n",
      "Epoch 7/10\n",
      "20000/20000 [==============================] - 6s 293us/step - loss: 0.0603 - acc: 0.2681 - val_loss: 2.7762 - val_acc: 0.3706\n",
      "Epoch 8/10\n",
      "20000/20000 [==============================] - 6s 284us/step - loss: 0.0584 - acc: 0.1784 - val_loss: 3.1224 - val_acc: 0.3330\n",
      "Epoch 9/10\n",
      "20000/20000 [==============================] - 6s 288us/step - loss: 0.0572 - acc: 0.1308 - val_loss: 3.3991 - val_acc: 0.2962\n",
      "Epoch 10/10\n",
      "20000/20000 [==============================] - 6s 288us/step - loss: 0.0574 - acc: 0.1019 - val_loss: 3.4054 - val_acc: 0.2870\n"
     ]
    }
   ],
   "source": [
    "model.compile (optimizer = 'rmsprop', loss = 'binary_crossentropy', metrics = ['acc'])\n",
    "history = model.fit(x_train, y_train, epochs= 10,batch_size = 128, validation_split= 0.2)"
   ]
  }
 ],
 "metadata": {
  "kernelspec": {
   "display_name": "Python 3",
   "language": "python",
   "name": "python3"
  },
  "language_info": {
   "codemirror_mode": {
    "name": "ipython",
    "version": 3
   },
   "file_extension": ".py",
   "mimetype": "text/x-python",
   "name": "python",
   "nbconvert_exporter": "python",
   "pygments_lexer": "ipython3",
   "version": "3.6.5"
  },
  "toc": {
   "base_numbering": 1,
   "nav_menu": {},
   "number_sections": true,
   "sideBar": true,
   "skip_h1_title": false,
   "title_cell": "Table of Contents",
   "title_sidebar": "Contents",
   "toc_cell": false,
   "toc_position": {},
   "toc_section_display": true,
   "toc_window_display": false
  },
  "varInspector": {
   "cols": {
    "lenName": 16,
    "lenType": 16,
    "lenVar": 40
   },
   "kernels_config": {
    "python": {
     "delete_cmd_postfix": "",
     "delete_cmd_prefix": "del ",
     "library": "var_list.py",
     "varRefreshCmd": "print(var_dic_list())"
    },
    "r": {
     "delete_cmd_postfix": ") ",
     "delete_cmd_prefix": "rm(",
     "library": "var_list.r",
     "varRefreshCmd": "cat(var_dic_list()) "
    }
   },
   "types_to_exclude": [
    "module",
    "function",
    "builtin_function_or_method",
    "instance",
    "_Feature"
   ],
   "window_display": false
  }
 },
 "nbformat": 4,
 "nbformat_minor": 2
}

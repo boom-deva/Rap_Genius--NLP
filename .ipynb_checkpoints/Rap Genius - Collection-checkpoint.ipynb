{
 "cells": [
  {
   "cell_type": "markdown",
   "metadata": {
    "toc": true
   },
   "source": [
    "<h1>Table of Contents<span class=\"tocSkip\"></span></h1>\n",
    "<div class=\"toc\"><ul class=\"toc-item\"><li><span><a href=\"#Problem-Statement\" data-toc-modified-id=\"Problem-Statement-1\"><span class=\"toc-item-num\">1&nbsp;&nbsp;</span>Problem Statement</a></span><ul class=\"toc-item\"><li><ul class=\"toc-item\"><li><span><a href=\"#Questions-to-Ask:\" data-toc-modified-id=\"Questions-to-Ask:-1.0.1\"><span class=\"toc-item-num\">1.0.1&nbsp;&nbsp;</span>Questions to Ask:</a></span></li></ul></li></ul></li><li><span><a href=\"#Sources\" data-toc-modified-id=\"Sources-2\"><span class=\"toc-item-num\">2&nbsp;&nbsp;</span>Sources</a></span></li><li><span><a href=\"#Imports\" data-toc-modified-id=\"Imports-3\"><span class=\"toc-item-num\">3&nbsp;&nbsp;</span>Imports</a></span></li><li><span><a href=\"#Data-Collection\" data-toc-modified-id=\"Data-Collection-4\"><span class=\"toc-item-num\">4&nbsp;&nbsp;</span>Data Collection</a></span><ul class=\"toc-item\"><li><span><a href=\"#Who-shall-I-compare-drake-to?\" data-toc-modified-id=\"Who-shall-I-compare-drake-to?-4.1\"><span class=\"toc-item-num\">4.1&nbsp;&nbsp;</span>Who shall I compare drake to?</a></span></li><li><span><a href=\"#Gather-the-lyrics\" data-toc-modified-id=\"Gather-the-lyrics-4.2\"><span class=\"toc-item-num\">4.2&nbsp;&nbsp;</span>Gather the lyrics</a></span><ul class=\"toc-item\"><li><span><a href=\"#Get-the-API\" data-toc-modified-id=\"Get-the-API-4.2.1\"><span class=\"toc-item-num\">4.2.1&nbsp;&nbsp;</span>Get the API</a></span></li></ul></li></ul></li></ul></div>"
   ]
  },
  {
   "cell_type": "markdown",
   "metadata": {},
   "source": [
    "# Problem Statement"
   ]
  },
  {
   "cell_type": "markdown",
   "metadata": {},
   "source": [
    "Drake is one of the most successful rappers of all time. However he is not the best. There is a difference. Drake in many people's eyes is an amazing singer, songwriter, rapper, and the occassional dancer. Yet, he would not be compared to the likes of Jay-z, Nas, J.Cole, or Kendrick Lamar. Why? I want to know what sets Drake apart and makes him one of the successful rappers today despite not being considered a top lyricists.\n",
    "\n",
    "Compared to other rappers artistry he does compare to be on their level."
   ]
  },
  {
   "cell_type": "markdown",
   "metadata": {},
   "source": [
    "### Questions to Ask:\n",
    "Data Gathering and Cleaning:\n",
    "- Who are the top rappers of all time?\n",
    "\n",
    "\n",
    "    - How will I measure that? What features are used to determine top rappers\n",
    "- What should the scope be?\n",
    "\n",
    "\n",
    "    - Should the scope be based off years, such as the length of drakes career or popularity like each rappers top 10, 20 songs of all time? \n",
    "\n"
   ]
  },
  {
   "cell_type": "markdown",
   "metadata": {},
   "source": [
    "# Sources\n",
    "\n",
    "1. https://github.com/johnwmillr/LyricsGenius \n",
    "2. https://stackoverflow.com/questions/47400466/using-genius-api\n",
    "3. http://www.storybench.org/download-song-lyrics-genius-using-python/\n",
    "4. https://www.johnwmillr.com/trucks-and-beer/\n",
    "5. http://jdaytn.com/posts/download-blink-182-data/\n",
    "6. https://github.com/Hugo-Nattagh/2017-Hip-Hop\n",
    "7. https://towardsdatascience.com/does-country-music-drink-more-than-other-genres-a21db901940b\n",
    "8. https://towardsdatascience.com/49-years-of-lyrics-why-so-angry-1adf0a3fa2b4\n",
    "9. https://medium.com/@RareLoot/how-to-download-an-artists-lyrics-from-genius-com-using-python-984d298951c6"
   ]
  },
  {
   "cell_type": "markdown",
   "metadata": {},
   "source": [
    "# Imports"
   ]
  },
  {
   "cell_type": "code",
   "execution_count": 69,
   "metadata": {
    "ExecuteTime": {
     "end_time": "2019-05-05T19:47:40.859016Z",
     "start_time": "2019-05-05T19:47:38.468683Z"
    },
    "scrolled": true
   },
   "outputs": [
    {
     "name": "stdout",
     "output_type": "stream",
     "text": [
      "Requirement already up-to-date: beautifulsoup4 in c:\\users\\vonn\\anaconda3\\lib\\site-packages (4.7.1)\n",
      "Requirement already satisfied, skipping upgrade: soupsieve>=1.2 in c:\\users\\vonn\\anaconda3\\lib\\site-packages (from beautifulsoup4) (1.9.1)\n"
     ]
    }
   ],
   "source": [
    "# installations. Those commented out have already been installed.\n",
    "\n",
    "# !pip install -U request\n",
    "# !pip install -U beautifulsoup4"
   ]
  },
  {
   "cell_type": "code",
   "execution_count": 1,
   "metadata": {
    "ExecuteTime": {
     "end_time": "2019-05-08T00:53:54.451563Z",
     "start_time": "2019-05-08T00:53:52.121801Z"
    },
    "code_folding": []
   },
   "outputs": [],
   "source": [
    "# import necessary libraries\n",
    "import csv\n",
    "import re\n",
    "from os import open\n",
    "\n",
    "import codecs\n",
    "import lyricsgenius\n",
    "import matplotlib.pyplot as plt\n",
    "import numpy as np\n",
    "import pandas as pd\n",
    "import requests\n",
    "import tqdm as tq\n",
    "import pickle\n",
    "import glob \n",
    "import json\n",
    "import time\n",
    "import tqdm"
   ]
  },
  {
   "cell_type": "markdown",
   "metadata": {},
   "source": [
    "# Data Collection"
   ]
  },
  {
   "cell_type": "markdown",
   "metadata": {},
   "source": [
    "## Who shall I compare drake to?\n",
    "\n",
    "The top rappers or his contemporaries?"
   ]
  },
  {
   "cell_type": "markdown",
   "metadata": {},
   "source": [
    "## Gather the lyrics"
   ]
  },
  {
   "cell_type": "markdown",
   "metadata": {},
   "source": [
    "### Get the API"
   ]
  },
  {
   "cell_type": "code",
   "execution_count": 2,
   "metadata": {
    "ExecuteTime": {
     "end_time": "2019-05-08T00:54:03.892218Z",
     "start_time": "2019-05-08T00:54:03.883321Z"
    }
   },
   "outputs": [],
   "source": [
    "artist_list = ['Drake', 'Jay-z', 'Nas', 'Eminem', 'Future', 'Kanye West']"
   ]
  },
  {
   "cell_type": "code",
   "execution_count": 4,
   "metadata": {
    "ExecuteTime": {
     "end_time": "2019-05-07T22:58:39.864930Z",
     "start_time": "2019-05-07T22:58:39.847100Z"
    },
    "scrolled": false
   },
   "outputs": [],
   "source": [
    "# search for the artist you want\n",
    "def search_artist(name, max_amount_of_songs, how_to_sort_it = 'popularity'):\n",
    "    token = '4QvN5TU9_c4T9xbDeMuYXkf-UWM15_UfG-KrqrgWZAlFZajfxWpQTSa3EJ3ILIqJ'\n",
    "    genius = lyricsgenius.Genius(token)\n",
    "    genius.verbose = False # in the future change this to true or set artist.save_lyrics() to not be returned\n",
    "    artist = genius.search_artist(name,max_songs=max_amount_of_songs,get_full_info=True )\n",
    "    return artist.save_lyrics()"
   ]
  },
  {
   "cell_type": "code",
   "execution_count": 39,
   "metadata": {
    "ExecuteTime": {
     "end_time": "2019-05-07T21:05:31.089801Z",
     "start_time": "2019-05-07T20:57:13.555850Z"
    }
   },
   "outputs": [
    {
     "data": {
      "application/vnd.jupyter.widget-view+json": {
       "model_id": "9d23df4fec3a425abfd3209bceb7361b",
       "version_major": 2,
       "version_minor": 0
      },
      "text/plain": [
       "HBox(children=(IntProgress(value=0, max=6), HTML(value='')))"
      ]
     },
     "metadata": {},
     "output_type": "display_data"
    },
    {
     "name": "stdout",
     "output_type": "stream",
     "text": [
      "Wrote God's Plan to lyrics_drake_godsplan.json.\n",
      "Wrote In My Feelings to lyrics_drake_inmyfeelings.json.\n",
      "Wrote Hotline Bling to lyrics_drake_hotlinebling.json.\n",
      "Wrote One Dance to lyrics_drake_onedance.json.\n",
      "Wrote Hold On, We're Going Home to lyrics_drake_holdonweregoinghome.json.\n",
      "Wrote Know Yourself to lyrics_drake_knowyourself.json.\n",
      "Wrote Back to Back to lyrics_drake_backtoback.json.\n",
      "Wrote All Me to lyrics_drake_allme.json.\n",
      "Wrote Fake Love to lyrics_drake_fakelove.json.\n",
      "Wrote 0 to 100 / The Catch Up to lyrics_drake_0to100thecatchup.json.\n",
      "Wrote Holy Grail to lyrics_jayz_holygrail.json.\n",
      "Wrote Part II (On The Run) to lyrics_jayz_partiiontherun.json.\n",
      "Wrote The Story of O.J. to lyrics_jayz_thestoryofo.j..json.\n",
      "Wrote Tom Ford to lyrics_jayz_tomford.json.\n",
      "Wrote 4:44 to lyrics_jayz_444.json.\n",
      "Wrote FuckWithMeYouKnowIGotIt to lyrics_jayz_fuckwithmeyouknowigotit.json.\n",
      "Wrote Empire State of Mind to lyrics_jayz_empirestateofmind.json.\n",
      "Wrote Oceans to lyrics_jayz_oceans.json.\n",
      "Wrote 99 Problems to lyrics_jayz_99problems.json.\n",
      "Wrote Picasso Baby to lyrics_jayz_picassobaby.json.\n",
      "Wrote N.Y. State of Mind to lyrics_nas_n.y.stateofmind.json.\n",
      "Wrote Ether to lyrics_nas_ether.json.\n",
      "Wrote Life's a Bitch to lyrics_nas_lifesabitch.json.\n",
      "Wrote The World Is Yours to lyrics_nas_theworldisyours.json.\n",
      "Wrote The Message to lyrics_nas_themessage.json.\n",
      "Wrote It Ain't Hard to Tell to lyrics_nas_itainthardtotell.json.\n",
      "Wrote One Love to lyrics_nas_onelove.json.\n",
      "Wrote If I Ruled the World (Imagine That) to lyrics_nas_ifiruledtheworldimaginethat.json.\n",
      "Wrote Represent to lyrics_nas_represent.json.\n",
      "Wrote Nas Is Like to lyrics_nas_nasislike.json.\n",
      "Wrote Rap God to lyrics_eminem_rapgod.json.\n",
      "Wrote Killshot to lyrics_eminem_killshot.json.\n",
      "Wrote The Monster to lyrics_eminem_themonster.json.\n",
      "Wrote Lose Yourself to lyrics_eminem_loseyourself.json.\n",
      "Wrote Lucky You to lyrics_eminem_luckyyou.json.\n",
      "Wrote The Ringer to lyrics_eminem_theringer.json.\n",
      "Wrote River to lyrics_eminem_river.json.\n",
      "Wrote Berzerk to lyrics_eminem_berzerk.json.\n",
      "Wrote Venom (Music from the Motion Picture) to lyrics_eminem_venommusicfromthemotionpicture.json.\n",
      "Wrote Not Alike to lyrics_eminem_notalike.json.\n",
      "Wrote Mask Off to lyrics_future_maskoff.json.\n",
      "Wrote Low Life to lyrics_future_lowlife.json.\n",
      "Wrote March Madness to lyrics_future_marchmadness.json.\n",
      "Wrote Where Ya At to lyrics_future_whereyaat.json.\n",
      "Wrote Fuck Up Some Commas to lyrics_future_fuckupsomecommas.json.\n",
      "Wrote Comin Out Strong to lyrics_future_cominoutstrong.json.\n",
      "Wrote I Won to lyrics_future_iwon.json.\n",
      "Wrote Thought It Was a Drought to lyrics_future_thoughtitwasadrought.json.\n",
      "Wrote Used to This to lyrics_future_usedtothis.json.\n",
      "Wrote Trap Niggas to lyrics_future_trapniggas.json.\n",
      "Wrote Mercy to lyrics_kanyewest_mercy.json.\n",
      "Wrote Father Stretch My Hands, Pt. 1 to lyrics_kanyewest_fatherstretchmyhandspt.1.json.\n",
      "Wrote Ultralight Beam to lyrics_kanyewest_ultralightbeam.json.\n",
      "Wrote Clique to lyrics_kanyewest_clique.json.\n",
      "Wrote Monster to lyrics_kanyewest_monster.json.\n",
      "Wrote Bound 2 to lyrics_kanyewest_bound2.json.\n",
      "Wrote New Slaves to lyrics_kanyewest_newslaves.json.\n",
      "Wrote Blood on the Leaves to lyrics_kanyewest_bloodontheleaves.json.\n",
      "Wrote Black Skinhead to lyrics_kanyewest_blackskinhead.json.\n",
      "Wrote Don't Like.1 to lyrics_kanyewest_dontlike.1.json.\n",
      "\n"
     ]
    }
   ],
   "source": [
    "for art in tqdm.tqdm_notebook(artist):\n",
    "    search_artist(art,10)\n",
    "    time.sleep(60)"
   ]
  },
  {
   "cell_type": "code",
   "execution_count": null,
   "metadata": {
    "ExecuteTime": {
     "end_time": "2019-05-05T19:47:41.680622Z",
     "start_time": "2019-05-05T19:47:38.494Z"
    }
   },
   "outputs": [],
   "source": [
    "# # Other things I can do with the genius api\n",
    "\n",
    "# genius.verbose = False # #Turn off status messages\n",
    "# genius.remove_section_headers = True # #Remove section headers (e.g. [Chorus]) from lyrics when searching\n",
    "# genius.skip_non_songs = False # #Include hits thought to be non-songs (e.g. track lists)\n",
    "# genius.excluded_terms = [\"(Remix)\", \"(Live)\"] # #Exclude songs with these words in their title"
   ]
  },
  {
   "cell_type": "code",
   "execution_count": 10,
   "metadata": {
    "ExecuteTime": {
     "end_time": "2019-05-07T23:02:45.600323Z",
     "start_time": "2019-05-07T23:02:45.588978Z"
    },
    "scrolled": true
   },
   "outputs": [
    {
     "data": {
      "text/plain": [
       "{'lyrics_Drake': None,\n",
       " 'lyrics_Jay-z': None,\n",
       " 'lyrics_Nas': None,\n",
       " 'lyrics_Eminem': None,\n",
       " 'lyrics_Future': None,\n",
       " 'lyrics_Kanye West': None}"
      ]
     },
     "execution_count": 10,
     "metadata": {},
     "output_type": "execute_result"
    }
   ],
   "source": [
    "# Create variables \n"
   ]
  },
  {
   "cell_type": "code",
   "execution_count": 38,
   "metadata": {
    "ExecuteTime": {
     "end_time": "2019-05-07T23:31:52.743121Z",
     "start_time": "2019-05-07T23:31:52.727541Z"
    }
   },
   "outputs": [],
   "source": [
    "d = {}\n",
    "def to_raw_corpus(artists_name):\n",
    "    # fix name if it has unsual characters in it\n",
    "    artists_name = re.sub(r'[^\\w\\s]', '', artists_name)\n",
    "    artists_name = re.sub(r'[/\\s/g]', '', artists_name)\n",
    "    # Glob the files, aggregate the file names\n",
    "    str_ = f'lyrics_{artists_name.lower()}*' # create a string of the artist for the file name\n",
    "    print(f\"This is what str_ looks like right now: {str_}\")\n",
    "    print()\n",
    "    d[f'lyrics_{artists_name}'] = sorted(glob.glob(str_)) \n",
    "    print(f\"This is what the {artists_name} key looks like right now: {d[f'lyrics_{artists_name}']}\")\n",
    "    # put it into it's own corpus\n",
    "    corpus_raw = \"\"\n",
    "    for lyrics in d[f'lyrics_{artists_name}']:\n",
    "        print(f'Reading {lyrics}')\n",
    "        with codecs.open(lyrics, \"r\") as lyrics_file:\n",
    "            data = json.load(lyrics_file)\n",
    "            corpus_raw += data['songs'][0]['lyrics']\n",
    "            print(f'Corpus is now {len(corpus_raw)} characters long')\n",
    "            print()\n",
    "    # save the corpus\n",
    "    with codecs.open(f\"{artists_name}_corpus_raw\", \"wb\") as file:\n",
    "        pickle.dump(corpus_raw, file)\n",
    "    \n",
    "# The glob module finds all the pathnames matching a specified pattern according \n",
    "# to the rules used by the Unix shell, although results are returned in arbitrary order."
   ]
  },
  {
   "cell_type": "code",
   "execution_count": 39,
   "metadata": {
    "ExecuteTime": {
     "end_time": "2019-05-07T23:31:54.748340Z",
     "start_time": "2019-05-07T23:31:54.393363Z"
    }
   },
   "outputs": [
    {
     "name": "stdout",
     "output_type": "stream",
     "text": [
      "initiating raw corpus read for Drake\n",
      "This is what str_ looks like right now: lyrics_drake*\n",
      "\n",
      "This is what the Drake key looks like right now: ['lyrics_drake_0to100thecatchup.json', 'lyrics_drake_allme.json', 'lyrics_drake_backtoback.json', 'lyrics_drake_fakelove.json', 'lyrics_drake_godsplan.json', 'lyrics_drake_holdonweregoinghome.json', 'lyrics_drake_hotlinebling.json', 'lyrics_drake_inmyfeelings.json', 'lyrics_drake_knowyourself.json', 'lyrics_drake_onedance.json']\n",
      "Reading lyrics_drake_0to100thecatchup.json\n",
      "Corpus is now 4934 characters long\n",
      "\n",
      "Reading lyrics_drake_allme.json\n",
      "Corpus is now 10211 characters long\n",
      "\n",
      "Reading lyrics_drake_backtoback.json\n",
      "Corpus is now 12806 characters long\n",
      "\n",
      "Reading lyrics_drake_fakelove.json\n",
      "Corpus is now 15116 characters long\n",
      "\n",
      "Reading lyrics_drake_godsplan.json\n",
      "Corpus is now 16925 characters long\n",
      "\n",
      "Reading lyrics_drake_holdonweregoinghome.json\n",
      "Corpus is now 18742 characters long\n",
      "\n",
      "Reading lyrics_drake_hotlinebling.json\n",
      "Corpus is now 21001 characters long\n",
      "\n",
      "Reading lyrics_drake_inmyfeelings.json\n",
      "Corpus is now 23997 characters long\n",
      "\n",
      "Reading lyrics_drake_knowyourself.json\n",
      "Corpus is now 26846 characters long\n",
      "\n",
      "Reading lyrics_drake_onedance.json\n",
      "Corpus is now 28823 characters long\n",
      "\n",
      "Done\n",
      "\n",
      "initiating raw corpus read for Jay-z\n",
      "This is what str_ looks like right now: lyrics_jayz*\n",
      "\n",
      "This is what the Jayz key looks like right now: ['lyrics_jayz_444.json', 'lyrics_jayz_99problems.json', 'lyrics_jayz_empirestateofmind.json', 'lyrics_jayz_fuckwithmeyouknowigotit.json', 'lyrics_jayz_holygrail.json', 'lyrics_jayz_oceans.json', 'lyrics_jayz_partiiontherun.json', 'lyrics_jayz_picassobaby.json', 'lyrics_jayz_thestoryofo.j..json', 'lyrics_jayz_tomford.json']\n",
      "Reading lyrics_jayz_444.json\n",
      "Corpus is now 2625 characters long\n",
      "\n",
      "Reading lyrics_jayz_99problems.json\n",
      "Corpus is now 6278 characters long\n",
      "\n",
      "Reading lyrics_jayz_empirestateofmind.json\n",
      "Corpus is now 10346 characters long\n",
      "\n",
      "Reading lyrics_jayz_fuckwithmeyouknowigotit.json\n",
      "Corpus is now 12971 characters long\n",
      "\n",
      "Reading lyrics_jayz_holygrail.json\n",
      "Corpus is now 16951 characters long\n",
      "\n",
      "Reading lyrics_jayz_oceans.json\n",
      "Corpus is now 19679 characters long\n",
      "\n",
      "Reading lyrics_jayz_partiiontherun.json\n",
      "Corpus is now 22723 characters long\n",
      "\n",
      "Reading lyrics_jayz_picassobaby.json\n",
      "Corpus is now 25301 characters long\n",
      "\n",
      "Reading lyrics_jayz_thestoryofo.j..json\n",
      "Corpus is now 27595 characters long\n",
      "\n",
      "Reading lyrics_jayz_tomford.json\n",
      "Corpus is now 29247 characters long\n",
      "\n",
      "Done\n",
      "\n",
      "initiating raw corpus read for Nas\n",
      "This is what str_ looks like right now: lyrics_nas*\n",
      "\n",
      "This is what the Nas key looks like right now: ['lyrics_nas_ether.json', 'lyrics_nas_ifiruledtheworldimaginethat.json', 'lyrics_nas_itainthardtotell.json', 'lyrics_nas_lifesabitch.json', 'lyrics_nas_n.y.stateofmind.json', 'lyrics_nas_nasislike.json', 'lyrics_nas_onelove.json', 'lyrics_nas_represent.json', 'lyrics_nas_themessage.json', 'lyrics_nas_theworldisyours.json']\n",
      "Reading lyrics_nas_ether.json\n",
      "Corpus is now 4923 characters long\n",
      "\n",
      "Reading lyrics_nas_ifiruledtheworldimaginethat.json\n",
      "Corpus is now 9107 characters long\n",
      "\n",
      "Reading lyrics_nas_itainthardtotell.json\n",
      "Corpus is now 11020 characters long\n",
      "\n",
      "Reading lyrics_nas_lifesabitch.json\n",
      "Corpus is now 14274 characters long\n",
      "\n",
      "Reading lyrics_nas_n.y.stateofmind.json\n",
      "Corpus is now 18796 characters long\n",
      "\n",
      "Reading lyrics_nas_nasislike.json\n",
      "Corpus is now 22702 characters long\n",
      "\n",
      "Reading lyrics_nas_onelove.json\n",
      "Corpus is now 27666 characters long\n",
      "\n",
      "Reading lyrics_nas_represent.json\n",
      "Corpus is now 31500 characters long\n",
      "\n",
      "Reading lyrics_nas_themessage.json\n",
      "Corpus is now 35367 characters long\n",
      "\n",
      "Reading lyrics_nas_theworldisyours.json\n",
      "Corpus is now 40005 characters long\n",
      "\n",
      "Done\n",
      "\n",
      "initiating raw corpus read for Eminem\n",
      "This is what str_ looks like right now: lyrics_eminem*\n",
      "\n",
      "This is what the Eminem key looks like right now: ['lyrics_eminem_berzerk.json', 'lyrics_eminem_killshot.json', 'lyrics_eminem_loseyourself.json', 'lyrics_eminem_luckyyou.json', 'lyrics_eminem_notalike.json', 'lyrics_eminem_rapgod.json', 'lyrics_eminem_river.json', 'lyrics_eminem_themonster.json', 'lyrics_eminem_theringer.json', 'lyrics_eminem_venommusicfromthemotionpicture.json']\n",
      "Reading lyrics_eminem_berzerk.json\n",
      "Corpus is now 3694 characters long\n",
      "\n",
      "Reading lyrics_eminem_killshot.json\n",
      "Corpus is now 8895 characters long\n",
      "\n",
      "Reading lyrics_eminem_loseyourself.json\n",
      "Corpus is now 13083 characters long\n",
      "\n",
      "Reading lyrics_eminem_luckyyou.json\n",
      "Corpus is now 19030 characters long\n",
      "\n",
      "Reading lyrics_eminem_notalike.json\n",
      "Corpus is now 25396 characters long\n",
      "\n",
      "Reading lyrics_eminem_rapgod.json\n",
      "Corpus is now 33442 characters long\n",
      "\n",
      "Reading lyrics_eminem_river.json\n",
      "Corpus is now 37190 characters long\n",
      "\n",
      "Reading lyrics_eminem_themonster.json\n",
      "Corpus is now 41258 characters long\n",
      "\n",
      "Reading lyrics_eminem_theringer.json\n",
      "Corpus is now 48520 characters long\n",
      "\n",
      "Reading lyrics_eminem_venommusicfromthemotionpicture.json\n",
      "Corpus is now 53170 characters long\n",
      "\n",
      "Done\n",
      "\n",
      "initiating raw corpus read for Future\n",
      "This is what str_ looks like right now: lyrics_future*\n",
      "\n",
      "This is what the Future key looks like right now: ['lyrics_future_cominoutstrong.json', 'lyrics_future_fuckupsomecommas.json', 'lyrics_future_iwon.json', 'lyrics_future_lowlife.json', 'lyrics_future_marchmadness.json', 'lyrics_future_maskoff.json', 'lyrics_future_thoughtitwasadrought.json', 'lyrics_future_trapniggas.json', 'lyrics_future_usedtothis.json', 'lyrics_future_whereyaat.json']\n",
      "Reading lyrics_future_cominoutstrong.json\n",
      "Corpus is now 3460 characters long\n",
      "\n",
      "Reading lyrics_future_fuckupsomecommas.json\n",
      "Corpus is now 7333 characters long\n",
      "\n",
      "Reading lyrics_future_iwon.json\n",
      "Corpus is now 9917 characters long\n",
      "\n",
      "Reading lyrics_future_lowlife.json\n",
      "Corpus is now 14485 characters long\n",
      "\n",
      "Reading lyrics_future_marchmadness.json\n",
      "Corpus is now 18670 characters long\n",
      "\n",
      "Reading lyrics_future_maskoff.json\n",
      "Corpus is now 21744 characters long\n",
      "\n",
      "Reading lyrics_future_thoughtitwasadrought.json\n",
      "Corpus is now 25373 characters long\n",
      "\n",
      "Reading lyrics_future_trapniggas.json\n",
      "Corpus is now 28181 characters long\n",
      "\n",
      "Reading lyrics_future_usedtothis.json\n",
      "Corpus is now 30797 characters long\n",
      "\n",
      "Reading lyrics_future_whereyaat.json\n",
      "Corpus is now 34500 characters long\n",
      "\n",
      "Done\n",
      "\n",
      "initiating raw corpus read for Kanye West\n",
      "This is what str_ looks like right now: lyrics_kanyewest*\n",
      "\n",
      "This is what the KanyeWest key looks like right now: ['lyrics_kanyewest_blackskinhead.json', 'lyrics_kanyewest_bloodontheleaves.json', 'lyrics_kanyewest_bound2.json', 'lyrics_kanyewest_clique.json', 'lyrics_kanyewest_dontlike.1.json', 'lyrics_kanyewest_fatherstretchmyhandspt.1.json', 'lyrics_kanyewest_mercy.json', 'lyrics_kanyewest_monster.json', 'lyrics_kanyewest_newslaves.json', 'lyrics_kanyewest_ultralightbeam.json']\n",
      "Reading lyrics_kanyewest_blackskinhead.json\n",
      "Corpus is now 2481 characters long\n",
      "\n",
      "Reading lyrics_kanyewest_bloodontheleaves.json\n",
      "Corpus is now 5536 characters long\n",
      "\n",
      "Reading lyrics_kanyewest_bound2.json\n",
      "Corpus is now 8282 characters long\n",
      "\n",
      "Reading lyrics_kanyewest_clique.json\n",
      "Corpus is now 12853 characters long\n",
      "\n",
      "Reading lyrics_kanyewest_dontlike.1.json\n",
      "Corpus is now 17743 characters long\n",
      "\n",
      "Reading lyrics_kanyewest_fatherstretchmyhandspt.1.json\n",
      "Corpus is now 19887 characters long\n",
      "\n",
      "Reading lyrics_kanyewest_mercy.json\n",
      "Corpus is now 26122 characters long\n",
      "\n",
      "Reading lyrics_kanyewest_monster.json\n",
      "Corpus is now 31736 characters long\n",
      "\n",
      "Reading lyrics_kanyewest_newslaves.json\n",
      "Corpus is now 34634 characters long\n",
      "\n",
      "Reading lyrics_kanyewest_ultralightbeam.json\n",
      "Corpus is now 38568 characters long\n",
      "\n",
      "Done\n",
      "\n"
     ]
    }
   ],
   "source": [
    "for art in artist_list:\n",
    "    print(f\"initiating raw corpus read for {art}\")\n",
    "    to_raw_corpus(art)\n",
    "    print(\"Done\")\n",
    "    print()"
   ]
  },
  {
   "cell_type": "code",
   "execution_count": 11,
   "metadata": {
    "ExecuteTime": {
     "end_time": "2019-05-08T01:09:33.662293Z",
     "start_time": "2019-05-08T01:09:33.638234Z"
    },
    "tags": [
     "functions",
     "regex",
     "pickle",
     "dataframe",
     ".items()"
    ]
   },
   "outputs": [],
   "source": [
    "def to_data_frame(artist_list):\n",
    "    data_dict_for_DataFrame ={}\n",
    "    for art in artist_list: \n",
    "        art = re.sub(r'[^\\w\\s]', '', art)\n",
    "        art = re.sub(r'[/\\s/g]', '', art)\n",
    "        print(f\"This is the artist: {art}\")\n",
    "        with codecs.open (f'{art}_corpus_raw', 'rb') as json_file:\n",
    "            data_dict_for_DataFrame[f'{art}'] = pickle.load(json_file)\n",
    "    return pd.DataFrame(data_dict_for_DataFrame.items(),columns = ('Artist', 'Lyrics'))"
   ]
  },
  {
   "cell_type": "code",
   "execution_count": 17,
   "metadata": {
    "ExecuteTime": {
     "end_time": "2019-05-08T01:16:58.082390Z",
     "start_time": "2019-05-08T01:16:58.008696Z"
    }
   },
   "outputs": [
    {
     "name": "stdout",
     "output_type": "stream",
     "text": [
      "This is the artist: Drake\n",
      "This is the artist: Jayz\n",
      "This is the artist: Nas\n",
      "This is the artist: Eminem\n",
      "This is the artist: Future\n",
      "This is the artist: KanyeWest\n"
     ]
    },
    {
     "data": {
      "text/html": [
       "<div>\n",
       "<style scoped>\n",
       "    .dataframe tbody tr th:only-of-type {\n",
       "        vertical-align: middle;\n",
       "    }\n",
       "\n",
       "    .dataframe tbody tr th {\n",
       "        vertical-align: top;\n",
       "    }\n",
       "\n",
       "    .dataframe thead th {\n",
       "        text-align: right;\n",
       "    }\n",
       "</style>\n",
       "<table border=\"1\" class=\"dataframe\">\n",
       "  <thead>\n",
       "    <tr style=\"text-align: right;\">\n",
       "      <th></th>\n",
       "      <th>Artist</th>\n",
       "      <th>Lyrics</th>\n",
       "    </tr>\n",
       "  </thead>\n",
       "  <tbody>\n",
       "    <tr>\n",
       "      <th>0</th>\n",
       "      <td>Drake</td>\n",
       "      <td>[Produced by Boi-1da, Frank Dukes, Noah \"40\" S...</td>\n",
       "    </tr>\n",
       "    <tr>\n",
       "      <th>1</th>\n",
       "      <td>Jayz</td>\n",
       "      <td>[Intro: Hannah Williams]\\nDo I find it so hard...</td>\n",
       "    </tr>\n",
       "    <tr>\n",
       "      <th>2</th>\n",
       "      <td>Nas</td>\n",
       "      <td>[Produced by Ron Browz]\\n\\n[Intro]\\nFuck Jay Z...</td>\n",
       "    </tr>\n",
       "    <tr>\n",
       "      <th>3</th>\n",
       "      <td>Eminem</td>\n",
       "      <td>[Verse 1]\\nNow this shit's about to kick off, ...</td>\n",
       "    </tr>\n",
       "    <tr>\n",
       "      <th>4</th>\n",
       "      <td>Future</td>\n",
       "      <td>[Intro]\\nHigh Klassified な音楽\\nI got the truth ...</td>\n",
       "    </tr>\n",
       "    <tr>\n",
       "      <th>5</th>\n",
       "      <td>KanyeWest</td>\n",
       "      <td>[Produced By Daft Punk &amp; Kanye West]\\n\\n[Verse...</td>\n",
       "    </tr>\n",
       "  </tbody>\n",
       "</table>\n",
       "</div>"
      ],
      "text/plain": [
       "      Artist                                             Lyrics\n",
       "0      Drake  [Produced by Boi-1da, Frank Dukes, Noah \"40\" S...\n",
       "1       Jayz  [Intro: Hannah Williams]\\nDo I find it so hard...\n",
       "2        Nas  [Produced by Ron Browz]\\n\\n[Intro]\\nFuck Jay Z...\n",
       "3     Eminem  [Verse 1]\\nNow this shit's about to kick off, ...\n",
       "4     Future  [Intro]\\nHigh Klassified な音楽\\nI got the truth ...\n",
       "5  KanyeWest  [Produced By Daft Punk & Kanye West]\\n\\n[Verse..."
      ]
     },
     "execution_count": 17,
     "metadata": {},
     "output_type": "execute_result"
    }
   ],
   "source": [
    "raw_dataframe = to_data_frame(artist_list)\n",
    "raw_dataframe"
   ]
  },
  {
   "cell_type": "markdown",
   "metadata": {},
   "source": [
    "Things to do:\n",
    "- Need to remove the slashes in between some of the words.\n",
    "- I see there are \\n everywhere so that can be a place to split.\n",
    "```python\n",
    "[x.lower() for x in lyrics_df.iloc[0,2].split('\\n')]\n",
    "```\n",
    "- Deal with profanity\n",
    "- Figure out how to handle slang.\n",
    "- When should I take out noncharacters, and when should I tokenize.\n",
    "- Should I stem or lemmatize? THere is a reason because of slang. SO need to understand how to deal with that.\n",
    "- can I get mixtapes? If so I can start from drakes mixtape to his latest album\n",
    "- should I do full info or na? Full info would be better for data collection but it will be much slower."
   ]
  },
  {
   "cell_type": "code",
   "execution_count": 20,
   "metadata": {
    "ExecuteTime": {
     "end_time": "2019-05-08T01:28:10.239984Z",
     "start_time": "2019-05-08T01:28:10.218616Z"
    }
   },
   "outputs": [],
   "source": [
    "# Save the file for the next notebook\n",
    "with codecs.open('Raw_Dataframe', 'wb') as f:\n",
    "    pickle.dump(raw_dataframe,f)"
   ]
  }
 ],
 "metadata": {
  "celltoolbar": "Tags",
  "kernelspec": {
   "display_name": "Python 3",
   "language": "python",
   "name": "python3"
  },
  "language_info": {
   "codemirror_mode": {
    "name": "ipython",
    "version": 3
   },
   "file_extension": ".py",
   "mimetype": "text/x-python",
   "name": "python",
   "nbconvert_exporter": "python",
   "pygments_lexer": "ipython3",
   "version": "3.7.1"
  },
  "toc": {
   "base_numbering": 1,
   "nav_menu": {
    "height": "173px",
    "width": "188px"
   },
   "number_sections": true,
   "sideBar": true,
   "skip_h1_title": false,
   "title_cell": "Table of Contents",
   "title_sidebar": "Contents",
   "toc_cell": true,
   "toc_position": {
    "height": "calc(100% - 180px)",
    "left": "10px",
    "top": "150px",
    "width": "165px"
   },
   "toc_section_display": true,
   "toc_window_display": true
  },
  "varInspector": {
   "cols": {
    "lenName": 16,
    "lenType": 16,
    "lenVar": 40
   },
   "kernels_config": {
    "python": {
     "delete_cmd_postfix": "",
     "delete_cmd_prefix": "del ",
     "library": "var_list.py",
     "varRefreshCmd": "print(var_dic_list())"
    },
    "r": {
     "delete_cmd_postfix": ") ",
     "delete_cmd_prefix": "rm(",
     "library": "var_list.r",
     "varRefreshCmd": "cat(var_dic_list()) "
    }
   },
   "oldHeight": 294.40322199999997,
   "position": {
    "height": "40px",
    "left": "1373.43px",
    "right": "20px",
    "top": "133px",
    "width": "316.181px"
   },
   "types_to_exclude": [
    "module",
    "function",
    "builtin_function_or_method",
    "instance",
    "_Feature"
   ],
   "varInspector_section_display": "none",
   "window_display": true
  }
 },
 "nbformat": 4,
 "nbformat_minor": 2
}
